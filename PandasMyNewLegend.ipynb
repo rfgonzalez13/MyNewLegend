{
  "nbformat": 4,
  "nbformat_minor": 0,
  "metadata": {
    "colab": {
      "name": "PandasMyNewLegend.ipynb",
      "provenance": [],
      "collapsed_sections": [],
      "toc_visible": true
    },
    "kernelspec": {
      "name": "python3",
      "display_name": "Python 3"
    }
  },
  "cells": [
    {
      "cell_type": "markdown",
      "metadata": {
        "id": "PLYinPTuRVaO"
      },
      "source": [
        "# Notebook para manejo de dataframes y generado de informacion a partir de la API de League of Legends.\n",
        "\n",
        "https://developer.riotgames.com/docs/lol\n",
        "\n",
        "Autores:  \n",
        "* Rubén Fernández González (rfgonzalez13@esei.uvigo.es)\n",
        "* Iván Montes Blanco (imblanco17@esei.uvigo.es)\n",
        "* Jacobo Cortegoso Budiño (jcbudino17@esei.uvigo.es)\n",
        "* Rubén Tejo Pereira (rtpereira18@esei.uvigo.es)\n",
        "\n",
        "\n",
        "\n",
        "\n"
      ]
    },
    {
      "cell_type": "markdown",
      "metadata": {
        "id": "9VNuHbVuR8aW"
      },
      "source": [
        "El objetivo es generar un Pandas dataframe o varios a partir de los J_SON de la api del LOL. Siendo los dataframes mas importantes lo de los campeones y los de las skills"
      ]
    },
    {
      "cell_type": "markdown",
      "metadata": {
        "id": "jpdMP7qSSJWj"
      },
      "source": [
        "El resultado final ideal para nuestro recomendador seria un dataframe con Campeones(nombre) como filas y las siguientes columnas: Rol, Lore, Q, W, E, R, Pasiva."
      ]
    },
    {
      "cell_type": "markdown",
      "metadata": {
        "id": "RLuPwcV6QvFG"
      },
      "source": [
        "Importamos las librerias de pandas y json.\n",
        "Necesitamos obtener el nombre de **todos** los campeones automáticamente, por eso usamos Data Dragon, la API de League of Legends, donde tenemos un objeto J_SON con todos los campeones que usaremos como índice para después."
      ]
    },
    {
      "cell_type": "code",
      "metadata": {
        "id": "w2cGcqKgRWl9",
        "colab": {
          "base_uri": "https://localhost:8080/",
          "height": 206
        },
        "outputId": "849f2274-30ac-4ef2-9873-f4af41676944"
      },
      "source": [
        "import pandas as pd\n",
        "import json\n",
        "\n",
        "df = pd.read_json('http://ddragon.leagueoflegends.com/cdn/10.22.1/data/en_US/champion.json')\n",
        "df.head()"
      ],
      "execution_count": 1,
      "outputs": [
        {
          "output_type": "execute_result",
          "data": {
            "text/html": [
              "<div>\n",
              "<style scoped>\n",
              "    .dataframe tbody tr th:only-of-type {\n",
              "        vertical-align: middle;\n",
              "    }\n",
              "\n",
              "    .dataframe tbody tr th {\n",
              "        vertical-align: top;\n",
              "    }\n",
              "\n",
              "    .dataframe thead th {\n",
              "        text-align: right;\n",
              "    }\n",
              "</style>\n",
              "<table border=\"1\" class=\"dataframe\">\n",
              "  <thead>\n",
              "    <tr style=\"text-align: right;\">\n",
              "      <th></th>\n",
              "      <th>type</th>\n",
              "      <th>format</th>\n",
              "      <th>version</th>\n",
              "      <th>data</th>\n",
              "    </tr>\n",
              "  </thead>\n",
              "  <tbody>\n",
              "    <tr>\n",
              "      <th>Aatrox</th>\n",
              "      <td>champion</td>\n",
              "      <td>standAloneComplex</td>\n",
              "      <td>10.22.1</td>\n",
              "      <td>{'version': '10.22.1', 'id': 'Aatrox', 'key': ...</td>\n",
              "    </tr>\n",
              "    <tr>\n",
              "      <th>Ahri</th>\n",
              "      <td>champion</td>\n",
              "      <td>standAloneComplex</td>\n",
              "      <td>10.22.1</td>\n",
              "      <td>{'version': '10.22.1', 'id': 'Ahri', 'key': '1...</td>\n",
              "    </tr>\n",
              "    <tr>\n",
              "      <th>Akali</th>\n",
              "      <td>champion</td>\n",
              "      <td>standAloneComplex</td>\n",
              "      <td>10.22.1</td>\n",
              "      <td>{'version': '10.22.1', 'id': 'Akali', 'key': '...</td>\n",
              "    </tr>\n",
              "    <tr>\n",
              "      <th>Alistar</th>\n",
              "      <td>champion</td>\n",
              "      <td>standAloneComplex</td>\n",
              "      <td>10.22.1</td>\n",
              "      <td>{'version': '10.22.1', 'id': 'Alistar', 'key':...</td>\n",
              "    </tr>\n",
              "    <tr>\n",
              "      <th>Amumu</th>\n",
              "      <td>champion</td>\n",
              "      <td>standAloneComplex</td>\n",
              "      <td>10.22.1</td>\n",
              "      <td>{'version': '10.22.1', 'id': 'Amumu', 'key': '...</td>\n",
              "    </tr>\n",
              "  </tbody>\n",
              "</table>\n",
              "</div>"
            ],
            "text/plain": [
              "             type  ...                                               data\n",
              "Aatrox   champion  ...  {'version': '10.22.1', 'id': 'Aatrox', 'key': ...\n",
              "Ahri     champion  ...  {'version': '10.22.1', 'id': 'Ahri', 'key': '1...\n",
              "Akali    champion  ...  {'version': '10.22.1', 'id': 'Akali', 'key': '...\n",
              "Alistar  champion  ...  {'version': '10.22.1', 'id': 'Alistar', 'key':...\n",
              "Amumu    champion  ...  {'version': '10.22.1', 'id': 'Amumu', 'key': '...\n",
              "\n",
              "[5 rows x 4 columns]"
            ]
          },
          "metadata": {
            "tags": []
          },
          "execution_count": 1
        }
      ]
    },
    {
      "cell_type": "markdown",
      "metadata": {
        "id": "yQY2V6m1RaVN"
      },
      "source": [
        "Vemos que este DataFrame *df* contiene en su campo data el id de todos los campeones. Lo que hacemos ahora es iterar sobre el id para descargar de la API cada J_SON asociado a cada campeón y concatenarlo en un solo DataFrame.\n",
        "\n",
        "El J_SON de cada campeón (como ejemplo mostramos a Yasuo) en Data Dragon tiene esta estructura:\n"
      ]
    },
    {
      "cell_type": "code",
      "metadata": {
        "id": "0WeV1-8kSHer",
        "colab": {
          "base_uri": "https://localhost:8080/",
          "height": 222
        },
        "outputId": "f065fd62-5fa8-4c72-9e30-e29a3c041170"
      },
      "source": [
        "EjemploCampeon = pd.read_json('http://ddragon.leagueoflegends.com/cdn/10.22.1/data/en_US/champion/Yasuo.json') \n",
        "EjemploCampeon = pd.read_json((EjemploCampeon['data']).to_json(), orient='index')\n",
        "display(EjemploCampeon)"
      ],
      "execution_count": 2,
      "outputs": [
        {
          "output_type": "display_data",
          "data": {
            "text/html": [
              "<div>\n",
              "<style scoped>\n",
              "    .dataframe tbody tr th:only-of-type {\n",
              "        vertical-align: middle;\n",
              "    }\n",
              "\n",
              "    .dataframe tbody tr th {\n",
              "        vertical-align: top;\n",
              "    }\n",
              "\n",
              "    .dataframe thead th {\n",
              "        text-align: right;\n",
              "    }\n",
              "</style>\n",
              "<table border=\"1\" class=\"dataframe\">\n",
              "  <thead>\n",
              "    <tr style=\"text-align: right;\">\n",
              "      <th></th>\n",
              "      <th>id</th>\n",
              "      <th>key</th>\n",
              "      <th>name</th>\n",
              "      <th>title</th>\n",
              "      <th>image</th>\n",
              "      <th>skins</th>\n",
              "      <th>lore</th>\n",
              "      <th>blurb</th>\n",
              "      <th>allytips</th>\n",
              "      <th>enemytips</th>\n",
              "      <th>tags</th>\n",
              "      <th>partype</th>\n",
              "      <th>info</th>\n",
              "      <th>stats</th>\n",
              "      <th>spells</th>\n",
              "      <th>passive</th>\n",
              "      <th>recommended</th>\n",
              "    </tr>\n",
              "  </thead>\n",
              "  <tbody>\n",
              "    <tr>\n",
              "      <th>Yasuo</th>\n",
              "      <td>Yasuo</td>\n",
              "      <td>157</td>\n",
              "      <td>Yasuo</td>\n",
              "      <td>the Unforgiven</td>\n",
              "      <td>{'full': 'Yasuo.png', 'sprite': 'champion4.png...</td>\n",
              "      <td>[{'id': '157000', 'num': 0, 'name': 'default',...</td>\n",
              "      <td>An Ionian of deep resolve, Yasuo is an agile s...</td>\n",
              "      <td>An Ionian of deep resolve, Yasuo is an agile s...</td>\n",
              "      <td>[Dash through a minion to have Sweeping Blade ...</td>\n",
              "      <td>[Steel Tempest is very narrow. Dodge laterally...</td>\n",
              "      <td>[Fighter, Assassin]</td>\n",
              "      <td>Flow</td>\n",
              "      <td>{'attack': 8, 'defense': 4, 'magic': 4, 'diffi...</td>\n",
              "      <td>{'hp': 490, 'hpperlevel': 87, 'mp': 100, 'mppe...</td>\n",
              "      <td>[{'id': 'YasuoQ1Wrapper', 'name': 'Steel Tempe...</td>\n",
              "      <td>{'name': 'Way of the Wanderer', 'description':...</td>\n",
              "      <td>[{'champion': 'Yasuo', 'title': 'Beginner', 'm...</td>\n",
              "    </tr>\n",
              "  </tbody>\n",
              "</table>\n",
              "</div>"
            ],
            "text/plain": [
              "          id  ...                                        recommended\n",
              "Yasuo  Yasuo  ...  [{'champion': 'Yasuo', 'title': 'Beginner', 'm...\n",
              "\n",
              "[1 rows x 17 columns]"
            ]
          },
          "metadata": {
            "tags": []
          }
        }
      ]
    },
    {
      "cell_type": "markdown",
      "metadata": {
        "id": "gRK725gtXJFL"
      },
      "source": [
        "Vemos que tenemos campos muy interesantes (y muchos otros despreciables) ya accesibles como el nombre y el lore. Sin embargo las descripciones de las skills o la pasiva estan dos niveles más abajo dentro del campo spell.\n",
        "\n",
        "Bajamos esos niveles:"
      ]
    },
    {
      "cell_type": "code",
      "metadata": {
        "id": "ywZMrB6YZH7R",
        "colab": {
          "base_uri": "https://localhost:8080/",
          "height": 115
        },
        "outputId": "fc1b7ea8-7865-405c-972e-5cae340654f8"
      },
      "source": [
        "  s = EjemploCampeon['spells'][0]\n",
        "  spellsData = [[s[0]['description'], s[1]['description'], s[2]['description'],s[3]['description'],EjemploCampeon['passive'][0]['description']]]\n",
        "  EjemploHabilidades = pd.DataFrame(spellsData, columns = ['Q' , 'W' , 'E', 'R', 'Passive'], index = ['Yasuo'])\n",
        "  display(EjemploHabilidades)"
      ],
      "execution_count": 3,
      "outputs": [
        {
          "output_type": "display_data",
          "data": {
            "text/html": [
              "<div>\n",
              "<style scoped>\n",
              "    .dataframe tbody tr th:only-of-type {\n",
              "        vertical-align: middle;\n",
              "    }\n",
              "\n",
              "    .dataframe tbody tr th {\n",
              "        vertical-align: top;\n",
              "    }\n",
              "\n",
              "    .dataframe thead th {\n",
              "        text-align: right;\n",
              "    }\n",
              "</style>\n",
              "<table border=\"1\" class=\"dataframe\">\n",
              "  <thead>\n",
              "    <tr style=\"text-align: right;\">\n",
              "      <th></th>\n",
              "      <th>Q</th>\n",
              "      <th>W</th>\n",
              "      <th>E</th>\n",
              "      <th>R</th>\n",
              "      <th>Passive</th>\n",
              "    </tr>\n",
              "  </thead>\n",
              "  <tbody>\n",
              "    <tr>\n",
              "      <th>Yasuo</th>\n",
              "      <td>Thrusts forward, damaging all enemies in a lin...</td>\n",
              "      <td>Creates a moving wall that blocks all enemy pr...</td>\n",
              "      <td>Dashes through target enemy, dealing magic dam...</td>\n",
              "      <td>Blinks to an &lt;factionIonia1&gt;Airborne&lt;/factionI...</td>\n",
              "      <td>Yasuo's Critical Strike Chance is doubled. Add...</td>\n",
              "    </tr>\n",
              "  </tbody>\n",
              "</table>\n",
              "</div>"
            ],
            "text/plain": [
              "                                                       Q  ...                                            Passive\n",
              "Yasuo  Thrusts forward, damaging all enemies in a lin...  ...  Yasuo's Critical Strike Chance is doubled. Add...\n",
              "\n",
              "[1 rows x 5 columns]"
            ]
          },
          "metadata": {
            "tags": []
          }
        }
      ]
    },
    {
      "cell_type": "markdown",
      "metadata": {
        "id": "F2kTwjoFfpg5"
      },
      "source": [
        "Concatenando el resultado de cada campeón y juntando los dataframes obtendremos el DataFrame *champInfo*. \n",
        "\n",
        "Sin embargo para el frontend de nuestra aplicacion necesitamos otros datos. Aprovechando la iteración sobre todos los campeones vamos a sacar un dataframe mas. Este dataframe contendrá el nombre de los campeones, el nombre de sus habilidades (Q,W,E,R, Passive) y la imagen de las mismas (Qimg, Wimg, Wimg, Eimg, Rimg, Passiveimg). Vamos a detallar el proceso con el Ejemplo de Yasuo:\n",
        "<img src=http://ddragon.leagueoflegends.com/cdn/img/champion/splash/Yasuo_0.jpg>"
      ]
    },
    {
      "cell_type": "code",
      "metadata": {
        "id": "G2s4_COGiSgz",
        "colab": {
          "base_uri": "https://localhost:8080/",
          "height": 135
        },
        "outputId": "181c14bc-031d-4522-b4a5-aeddc51f838c"
      },
      "source": [
        "spellsD = [[s[0]['name'], s[1]['name'], s[2]['name'],s[3]['name'], s[0]['id'], s[1]['id'], s[2]['id'], s[3]['id'], EjemploCampeon['passive'][0]['name'], EjemploCampeon['passive'][0]['image']['full']]]\n",
        "EjemplofrontSpells = pd.DataFrame(spellsD, columns = ['Q' , 'W' , 'E', 'R', 'Qimg', 'Wimg', 'Eimg', 'Rimg', 'Passive', 'Passiveimg'], index = ['Yasuo'])\n",
        "EjemplofrontSpells = pd.concat([EjemploCampeon['name'], EjemploCampeon['id'], EjemplofrontSpells], axis=1)\n",
        "display(EjemplofrontSpells)"
      ],
      "execution_count": 4,
      "outputs": [
        {
          "output_type": "display_data",
          "data": {
            "text/html": [
              "<div>\n",
              "<style scoped>\n",
              "    .dataframe tbody tr th:only-of-type {\n",
              "        vertical-align: middle;\n",
              "    }\n",
              "\n",
              "    .dataframe tbody tr th {\n",
              "        vertical-align: top;\n",
              "    }\n",
              "\n",
              "    .dataframe thead th {\n",
              "        text-align: right;\n",
              "    }\n",
              "</style>\n",
              "<table border=\"1\" class=\"dataframe\">\n",
              "  <thead>\n",
              "    <tr style=\"text-align: right;\">\n",
              "      <th></th>\n",
              "      <th>name</th>\n",
              "      <th>id</th>\n",
              "      <th>Q</th>\n",
              "      <th>W</th>\n",
              "      <th>E</th>\n",
              "      <th>R</th>\n",
              "      <th>Qimg</th>\n",
              "      <th>Wimg</th>\n",
              "      <th>Eimg</th>\n",
              "      <th>Rimg</th>\n",
              "      <th>Passive</th>\n",
              "      <th>Passiveimg</th>\n",
              "    </tr>\n",
              "  </thead>\n",
              "  <tbody>\n",
              "    <tr>\n",
              "      <th>Yasuo</th>\n",
              "      <td>Yasuo</td>\n",
              "      <td>Yasuo</td>\n",
              "      <td>Steel Tempest</td>\n",
              "      <td>Wind Wall</td>\n",
              "      <td>Sweeping Blade</td>\n",
              "      <td>Last Breath</td>\n",
              "      <td>YasuoQ1Wrapper</td>\n",
              "      <td>YasuoW</td>\n",
              "      <td>YasuoE</td>\n",
              "      <td>YasuoR</td>\n",
              "      <td>Way of the Wanderer</td>\n",
              "      <td>Yasuo_Passive.png</td>\n",
              "    </tr>\n",
              "  </tbody>\n",
              "</table>\n",
              "</div>"
            ],
            "text/plain": [
              "        name     id  ...              Passive         Passiveimg\n",
              "Yasuo  Yasuo  Yasuo  ...  Way of the Wanderer  Yasuo_Passive.png\n",
              "\n",
              "[1 rows x 12 columns]"
            ]
          },
          "metadata": {
            "tags": []
          }
        }
      ]
    },
    {
      "cell_type": "markdown",
      "metadata": {
        "id": "KZab81kc42wT"
      },
      "source": [
        "Ahora tenemos un DataFrame *EjemplofrontSpells* que contiene lo necesario para el frontend para mostrar a Yasuo en nuestra apicación web. Solo añadimos esto en un bucle para completarlo con todos los campeones. \n",
        "\n",
        "Las imágenes de los campeones funcionan con las siguientes rutas según su **id**:\n",
        "\n",
        "(En ese caso el id = Yasuo)\n",
        "\n",
        "*   Imagen Splash: http://ddragon.leagueoflegends.com/cdn/img/champion/splash/Yasuo_0.jpg\n",
        "*   Imagen Loading: http://ddragon.leagueoflegends.com/cdn/img/champion/loading/Yasuo_0.jpg\n",
        "*   Imagen miniatura: http://ddragon.leagueoflegends.com/cdn/10.22.1/img/champion/Yasuo.png\n",
        "\n",
        "Las imagenes de las habilidades usan **Ximg** y la passiva **Passiveimg**\n",
        "\n",
        "*   http://ddragon.leagueoflegends.com/cdn/10.22.1/img/spell/YasuoQ1Wrapper.png\n",
        "*   http://ddragon.leagueoflegends.com/cdn/10.22.1/img/passive/Yasuo_Passive.png\n",
        "\n",
        "\n",
        "\n"
      ]
    },
    {
      "cell_type": "markdown",
      "metadata": {
        "id": "vpoBwUqT7lPL"
      },
      "source": [
        "Ahora solo queda generar los dos DataFrames completos con todos los campeones. Recordemos que teníamos el DataFrame *df* que básicamente contiene el 'id' de todos ellos. Iterando sobre el mismo podemos acceder a cada DataDragon de campeón y extraer la información que deseamos. El resultado debería ser *champInfo* para nuestro recomendador y *frontInfo* para el front end de nuestra aplicación."
      ]
    },
    {
      "cell_type": "code",
      "metadata": {
        "id": "X8ePTX1nW90U"
      },
      "source": [
        "champInfo = pd.DataFrame() \n",
        "frontInfo = pd.DataFrame()\n",
        "\n",
        "for i in df['data']:\n",
        "  #pasar json campeones a dataframe\n",
        "  leeJson = pd.read_json('http://ddragon.leagueoflegends.com/cdn/10.22.1/data/en_US/champion/'+i['id']+'.json')\n",
        "  datosChamp = pd.read_json((leeJson['data']).to_json(), orient='index')\n",
        "  \n",
        "  #pasar json spells y passive a dataframe\n",
        "  s = datosChamp['spells'][0]\n",
        "  \n",
        "  #champInfo\n",
        "  spellsData = [[s[0]['description'], s[1]['description'], s[2]['description'],s[3]['description'],datosChamp['passive'][0]['description']]]\n",
        "  spells = pd.DataFrame(spellsData, columns = ['Q', 'W' , 'E', 'R', 'Passive'], index = [i['id']])\n",
        "\n",
        "  #juntar dataframes y añadir a resultado\n",
        "  toappend = pd.concat([datosChamp, spells], axis=1)\n",
        "  champInfo = champInfo.append(toappend)\n",
        "\n",
        "  #frontInfo\n",
        "  spellsD = [[s[0]['name'], s[1]['name'], s[2]['name'],s[3]['name'], s[0]['id'], s[1]['id'], s[2]['id'], s[3]['id'], datosChamp['passive'][0]['name'], datosChamp['passive'][0]['image']['full']]]\n",
        "  front = pd.DataFrame(spellsD, columns = ['Q' , 'W' , 'E', 'R', 'Qimg', 'Wimg', 'Eimg', 'Rimg', 'Passive', 'Passiveimg'], index = [i['id']])\n",
        "  \n",
        "  front = pd.concat([datosChamp['name'], datosChamp['id'], front], axis=1)\n",
        "  frontInfo = frontInfo.append(front)\n",
        "#end of loop"
      ],
      "execution_count": 6,
      "outputs": []
    },
    {
      "cell_type": "code",
      "metadata": {
        "id": "hHUGZm90AExE",
        "colab": {
          "base_uri": "https://localhost:8080/",
          "height": 330
        },
        "outputId": "2361bc3a-fc76-417d-d218-87e92ac99e87"
      },
      "source": [
        "frontInfo.head()"
      ],
      "execution_count": 7,
      "outputs": [
        {
          "output_type": "execute_result",
          "data": {
            "text/html": [
              "<div>\n",
              "<style scoped>\n",
              "    .dataframe tbody tr th:only-of-type {\n",
              "        vertical-align: middle;\n",
              "    }\n",
              "\n",
              "    .dataframe tbody tr th {\n",
              "        vertical-align: top;\n",
              "    }\n",
              "\n",
              "    .dataframe thead th {\n",
              "        text-align: right;\n",
              "    }\n",
              "</style>\n",
              "<table border=\"1\" class=\"dataframe\">\n",
              "  <thead>\n",
              "    <tr style=\"text-align: right;\">\n",
              "      <th></th>\n",
              "      <th>name</th>\n",
              "      <th>id</th>\n",
              "      <th>Q</th>\n",
              "      <th>W</th>\n",
              "      <th>E</th>\n",
              "      <th>R</th>\n",
              "      <th>Qimg</th>\n",
              "      <th>Wimg</th>\n",
              "      <th>Eimg</th>\n",
              "      <th>Rimg</th>\n",
              "      <th>Passive</th>\n",
              "      <th>Passiveimg</th>\n",
              "    </tr>\n",
              "  </thead>\n",
              "  <tbody>\n",
              "    <tr>\n",
              "      <th>Aatrox</th>\n",
              "      <td>Aatrox</td>\n",
              "      <td>Aatrox</td>\n",
              "      <td>The Darkin Blade</td>\n",
              "      <td>Infernal Chains</td>\n",
              "      <td>Umbral Dash</td>\n",
              "      <td>World Ender</td>\n",
              "      <td>AatroxQ</td>\n",
              "      <td>AatroxW</td>\n",
              "      <td>AatroxE</td>\n",
              "      <td>AatroxR</td>\n",
              "      <td>Deathbringer Stance</td>\n",
              "      <td>Aatrox_Passive.png</td>\n",
              "    </tr>\n",
              "    <tr>\n",
              "      <th>Ahri</th>\n",
              "      <td>Ahri</td>\n",
              "      <td>Ahri</td>\n",
              "      <td>Orb of Deception</td>\n",
              "      <td>Fox-Fire</td>\n",
              "      <td>Charm</td>\n",
              "      <td>Spirit Rush</td>\n",
              "      <td>AhriOrbofDeception</td>\n",
              "      <td>AhriFoxFire</td>\n",
              "      <td>AhriSeduce</td>\n",
              "      <td>AhriTumble</td>\n",
              "      <td>Essence Theft</td>\n",
              "      <td>Ahri_SoulEater2.png</td>\n",
              "    </tr>\n",
              "    <tr>\n",
              "      <th>Akali</th>\n",
              "      <td>Akali</td>\n",
              "      <td>Akali</td>\n",
              "      <td>Five Point Strike</td>\n",
              "      <td>Twilight Shroud</td>\n",
              "      <td>Shuriken Flip</td>\n",
              "      <td>Perfect Execution</td>\n",
              "      <td>AkaliQ</td>\n",
              "      <td>AkaliW</td>\n",
              "      <td>AkaliE</td>\n",
              "      <td>AkaliR</td>\n",
              "      <td>Assassin's Mark</td>\n",
              "      <td>Akali_P.png</td>\n",
              "    </tr>\n",
              "    <tr>\n",
              "      <th>Alistar</th>\n",
              "      <td>Alistar</td>\n",
              "      <td>Alistar</td>\n",
              "      <td>Pulverize</td>\n",
              "      <td>Headbutt</td>\n",
              "      <td>Trample</td>\n",
              "      <td>Unbreakable Will</td>\n",
              "      <td>Pulverize</td>\n",
              "      <td>Headbutt</td>\n",
              "      <td>AlistarE</td>\n",
              "      <td>FerociousHowl</td>\n",
              "      <td>Triumphant Roar</td>\n",
              "      <td>Alistar_E.png</td>\n",
              "    </tr>\n",
              "    <tr>\n",
              "      <th>Amumu</th>\n",
              "      <td>Amumu</td>\n",
              "      <td>Amumu</td>\n",
              "      <td>Bandage Toss</td>\n",
              "      <td>Despair</td>\n",
              "      <td>Tantrum</td>\n",
              "      <td>Curse of the Sad Mummy</td>\n",
              "      <td>BandageToss</td>\n",
              "      <td>AuraofDespair</td>\n",
              "      <td>Tantrum</td>\n",
              "      <td>CurseoftheSadMummy</td>\n",
              "      <td>Cursed Touch</td>\n",
              "      <td>Amumu_Passive.png</td>\n",
              "    </tr>\n",
              "  </tbody>\n",
              "</table>\n",
              "</div>"
            ],
            "text/plain": [
              "            name       id  ...              Passive           Passiveimg\n",
              "Aatrox    Aatrox   Aatrox  ...  Deathbringer Stance   Aatrox_Passive.png\n",
              "Ahri        Ahri     Ahri  ...        Essence Theft  Ahri_SoulEater2.png\n",
              "Akali      Akali    Akali  ...      Assassin's Mark          Akali_P.png\n",
              "Alistar  Alistar  Alistar  ...      Triumphant Roar        Alistar_E.png\n",
              "Amumu      Amumu    Amumu  ...         Cursed Touch    Amumu_Passive.png\n",
              "\n",
              "[5 rows x 12 columns]"
            ]
          },
          "metadata": {
            "tags": []
          },
          "execution_count": 7
        }
      ]
    },
    {
      "cell_type": "code",
      "metadata": {
        "id": "tdj4J2YCAL0z",
        "colab": {
          "base_uri": "https://localhost:8080/",
          "height": 712
        },
        "outputId": "1e99afbc-a918-4977-e397-57e334a2ab2f"
      },
      "source": [
        "champInfo.head()"
      ],
      "execution_count": 8,
      "outputs": [
        {
          "output_type": "execute_result",
          "data": {
            "text/html": [
              "<div>\n",
              "<style scoped>\n",
              "    .dataframe tbody tr th:only-of-type {\n",
              "        vertical-align: middle;\n",
              "    }\n",
              "\n",
              "    .dataframe tbody tr th {\n",
              "        vertical-align: top;\n",
              "    }\n",
              "\n",
              "    .dataframe thead th {\n",
              "        text-align: right;\n",
              "    }\n",
              "</style>\n",
              "<table border=\"1\" class=\"dataframe\">\n",
              "  <thead>\n",
              "    <tr style=\"text-align: right;\">\n",
              "      <th></th>\n",
              "      <th>id</th>\n",
              "      <th>key</th>\n",
              "      <th>name</th>\n",
              "      <th>title</th>\n",
              "      <th>image</th>\n",
              "      <th>skins</th>\n",
              "      <th>lore</th>\n",
              "      <th>blurb</th>\n",
              "      <th>allytips</th>\n",
              "      <th>enemytips</th>\n",
              "      <th>tags</th>\n",
              "      <th>partype</th>\n",
              "      <th>info</th>\n",
              "      <th>stats</th>\n",
              "      <th>spells</th>\n",
              "      <th>passive</th>\n",
              "      <th>recommended</th>\n",
              "      <th>Q</th>\n",
              "      <th>W</th>\n",
              "      <th>E</th>\n",
              "      <th>R</th>\n",
              "      <th>Passive</th>\n",
              "    </tr>\n",
              "  </thead>\n",
              "  <tbody>\n",
              "    <tr>\n",
              "      <th>Aatrox</th>\n",
              "      <td>Aatrox</td>\n",
              "      <td>266</td>\n",
              "      <td>Aatrox</td>\n",
              "      <td>the Darkin Blade</td>\n",
              "      <td>{'full': 'Aatrox.png', 'sprite': 'champion0.pn...</td>\n",
              "      <td>[{'id': '266000', 'num': 0, 'name': 'default',...</td>\n",
              "      <td>Once honored defenders of Shurima against the ...</td>\n",
              "      <td>Once honored defenders of Shurima against the ...</td>\n",
              "      <td>[Use Umbral Dash while casting The Darkin Blad...</td>\n",
              "      <td>[Aatrox's attacks are very telegraphed, so use...</td>\n",
              "      <td>[Fighter, Tank]</td>\n",
              "      <td>Blood Well</td>\n",
              "      <td>{'attack': 8, 'defense': 4, 'magic': 3, 'diffi...</td>\n",
              "      <td>{'hp': 580, 'hpperlevel': 90, 'mp': 0, 'mpperl...</td>\n",
              "      <td>[{'id': 'AatroxQ', 'name': 'The Darkin Blade',...</td>\n",
              "      <td>{'name': 'Deathbringer Stance', 'description':...</td>\n",
              "      <td>[{'champion': 'Aatrox', 'title': 'AatroxARAM',...</td>\n",
              "      <td>Aatrox slams his greatsword down, dealing phys...</td>\n",
              "      <td>Aatrox smashes the ground, dealing damage to t...</td>\n",
              "      <td>Passively, Aatrox heals when damaging enemy ch...</td>\n",
              "      <td>Aatrox unleashes his demonic form, fearing nea...</td>\n",
              "      <td>Periodically, Aatrox's next basic attack deals...</td>\n",
              "    </tr>\n",
              "    <tr>\n",
              "      <th>Ahri</th>\n",
              "      <td>Ahri</td>\n",
              "      <td>103</td>\n",
              "      <td>Ahri</td>\n",
              "      <td>the Nine-Tailed Fox</td>\n",
              "      <td>{'full': 'Ahri.png', 'sprite': 'champion0.png'...</td>\n",
              "      <td>[{'id': '103000', 'num': 0, 'name': 'default',...</td>\n",
              "      <td>Innately connected to the latent power of Rune...</td>\n",
              "      <td>Innately connected to the latent power of Rune...</td>\n",
              "      <td>[Use Charm to set up your combos, it will make...</td>\n",
              "      <td>[Ahri's survivability is dramatically reduced ...</td>\n",
              "      <td>[Mage, Assassin]</td>\n",
              "      <td>Mana</td>\n",
              "      <td>{'attack': 3, 'defense': 4, 'magic': 8, 'diffi...</td>\n",
              "      <td>{'hp': 526, 'hpperlevel': 92, 'mp': 418, 'mppe...</td>\n",
              "      <td>[{'id': 'AhriOrbofDeception', 'name': 'Orb of ...</td>\n",
              "      <td>{'name': 'Essence Theft', 'description': 'When...</td>\n",
              "      <td>[{'champion': 'Ahri', 'title': 'AhriARAM', 'ma...</td>\n",
              "      <td>Ahri sends out and pulls back her orb, dealing...</td>\n",
              "      <td>Ahri gains a brief burst of movement speed and...</td>\n",
              "      <td>Ahri blows a kiss that damages and charms an e...</td>\n",
              "      <td>Ahri dashes forward and fires essence bolts, d...</td>\n",
              "      <td>When Ahri strikes 9 enemies with her abilities...</td>\n",
              "    </tr>\n",
              "    <tr>\n",
              "      <th>Akali</th>\n",
              "      <td>Akali</td>\n",
              "      <td>84</td>\n",
              "      <td>Akali</td>\n",
              "      <td>the Rogue Assassin</td>\n",
              "      <td>{'full': 'Akali.png', 'sprite': 'champion0.png...</td>\n",
              "      <td>[{'id': '84000', 'num': 0, 'name': 'default', ...</td>\n",
              "      <td>Abandoning the Kinkou Order and her title of t...</td>\n",
              "      <td>Abandoning the Kinkou Order and her title of t...</td>\n",
              "      <td>[Akali excels at killing fragile champions. Le...</td>\n",
              "      <td>[Akali can still be hit by area effect spells ...</td>\n",
              "      <td>[Assassin]</td>\n",
              "      <td>Energy</td>\n",
              "      <td>{'attack': 5, 'defense': 3, 'magic': 8, 'diffi...</td>\n",
              "      <td>{'hp': 575, 'hpperlevel': 95, 'mp': 200, 'mppe...</td>\n",
              "      <td>[{'id': 'AkaliQ', 'name': 'Five Point Strike',...</td>\n",
              "      <td>{'name': 'Assassin's Mark', 'description': 'De...</td>\n",
              "      <td>[{'champion': 'Akali', 'title': 'AkaliARAM', '...</td>\n",
              "      <td>Akali throws out five kunai, dealing damage ba...</td>\n",
              "      <td>Akali drops a cover of smoke and briefly gains...</td>\n",
              "      <td>Flip backward and fire a shuriken forward, dea...</td>\n",
              "      <td>Akali leaps in a direction, damaging enemies s...</td>\n",
              "      <td>Dealing spell damage to a champion creates a r...</td>\n",
              "    </tr>\n",
              "    <tr>\n",
              "      <th>Alistar</th>\n",
              "      <td>Alistar</td>\n",
              "      <td>12</td>\n",
              "      <td>Alistar</td>\n",
              "      <td>the Minotaur</td>\n",
              "      <td>{'full': 'Alistar.png', 'sprite': 'champion0.p...</td>\n",
              "      <td>[{'id': '12000', 'num': 0, 'name': 'default', ...</td>\n",
              "      <td>Always a mighty warrior with a fearsome reputa...</td>\n",
              "      <td>Always a mighty warrior with a fearsome reputa...</td>\n",
              "      <td>[Using Pulverize can allow you to establish be...</td>\n",
              "      <td>[Alistar is very disruptive but very tough - t...</td>\n",
              "      <td>[Tank, Support]</td>\n",
              "      <td>Mana</td>\n",
              "      <td>{'attack': 6, 'defense': 9, 'magic': 5, 'diffi...</td>\n",
              "      <td>{'hp': 600, 'hpperlevel': 106, 'mp': 350, 'mpp...</td>\n",
              "      <td>[{'id': 'Pulverize', 'name': 'Pulverize', 'des...</td>\n",
              "      <td>{'name': 'Triumphant Roar', 'description': 'Al...</td>\n",
              "      <td>[{'champion': 'Alistar', 'title': 'AlistarARAM...</td>\n",
              "      <td>Alistar smashes the ground, dealing damage to ...</td>\n",
              "      <td>Alistar rams a target with his head, dealing d...</td>\n",
              "      <td>Alistar tramples nearby enemy units, ignoring ...</td>\n",
              "      <td>Alistar lets out a wild roar, removing all cro...</td>\n",
              "      <td>Alistar charges his roar by stunning or displa...</td>\n",
              "    </tr>\n",
              "    <tr>\n",
              "      <th>Amumu</th>\n",
              "      <td>Amumu</td>\n",
              "      <td>32</td>\n",
              "      <td>Amumu</td>\n",
              "      <td>the Sad Mummy</td>\n",
              "      <td>{'full': 'Amumu.png', 'sprite': 'champion0.png...</td>\n",
              "      <td>[{'id': '32000', 'num': 0, 'name': 'default', ...</td>\n",
              "      <td>Legend claims that Amumu is a lonely and melan...</td>\n",
              "      <td>Legend claims that Amumu is a lonely and melan...</td>\n",
              "      <td>[Amumu is highly dependent on teammates, so tr...</td>\n",
              "      <td>[Avoid bunching up with other allies when Amum...</td>\n",
              "      <td>[Tank, Mage]</td>\n",
              "      <td>Mana</td>\n",
              "      <td>{'attack': 2, 'defense': 6, 'magic': 8, 'diffi...</td>\n",
              "      <td>{'hp': 613.12, 'hpperlevel': 84, 'mp': 287.2, ...</td>\n",
              "      <td>[{'id': 'BandageToss', 'name': 'Bandage Toss',...</td>\n",
              "      <td>{'name': 'Cursed Touch', 'description': 'Amumu...</td>\n",
              "      <td>[{'champion': 'Amumu', 'title': 'AmumuARAM', '...</td>\n",
              "      <td>Amumu tosses a sticky bandage at a target, stu...</td>\n",
              "      <td>Overcome by anguish, nearby enemies lose a per...</td>\n",
              "      <td>Permanently reduces the physical damage Amumu ...</td>\n",
              "      <td>Amumu entangles surrounding enemy units in ban...</td>\n",
              "      <td>Amumu's basic attacks &lt;font color='#9b0f5f'&gt;Cu...</td>\n",
              "    </tr>\n",
              "  </tbody>\n",
              "</table>\n",
              "</div>"
            ],
            "text/plain": [
              "              id  ...                                            Passive\n",
              "Aatrox    Aatrox  ...  Periodically, Aatrox's next basic attack deals...\n",
              "Ahri        Ahri  ...  When Ahri strikes 9 enemies with her abilities...\n",
              "Akali      Akali  ...  Dealing spell damage to a champion creates a r...\n",
              "Alistar  Alistar  ...  Alistar charges his roar by stunning or displa...\n",
              "Amumu      Amumu  ...  Amumu's basic attacks <font color='#9b0f5f'>Cu...\n",
              "\n",
              "[5 rows x 22 columns]"
            ]
          },
          "metadata": {
            "tags": []
          },
          "execution_count": 8
        }
      ]
    },
    {
      "cell_type": "markdown",
      "metadata": {
        "id": "lEL7TxRZATaZ"
      },
      "source": [
        "Tenemos los dos DataFrames listos aunque *champInfo* contiene demasiados campos que para nuestro reconmendador son totalmente innecesarios, asi que los eliminamos:"
      ]
    },
    {
      "cell_type": "code",
      "metadata": {
        "id": "evZgJo4sAidC",
        "colab": {
          "base_uri": "https://localhost:8080/",
          "height": 658
        },
        "outputId": "995f5391-9db4-4239-f14d-e2e8b472fddb"
      },
      "source": [
        "del champInfo['skins']\n",
        "del champInfo['key']\n",
        "del champInfo['id']\n",
        "del champInfo['blurb']\n",
        "del champInfo['title']\n",
        "del champInfo['allytips']\n",
        "del champInfo['enemytips']\n",
        "del champInfo['info']\n",
        "del champInfo['recommended']\n",
        "del champInfo['spells']\n",
        "del champInfo['passive']\n",
        "del champInfo['stats']\n",
        "del champInfo['image']\n",
        "\n",
        "champInfo.head()"
      ],
      "execution_count": 9,
      "outputs": [
        {
          "output_type": "execute_result",
          "data": {
            "text/html": [
              "<div>\n",
              "<style scoped>\n",
              "    .dataframe tbody tr th:only-of-type {\n",
              "        vertical-align: middle;\n",
              "    }\n",
              "\n",
              "    .dataframe tbody tr th {\n",
              "        vertical-align: top;\n",
              "    }\n",
              "\n",
              "    .dataframe thead th {\n",
              "        text-align: right;\n",
              "    }\n",
              "</style>\n",
              "<table border=\"1\" class=\"dataframe\">\n",
              "  <thead>\n",
              "    <tr style=\"text-align: right;\">\n",
              "      <th></th>\n",
              "      <th>name</th>\n",
              "      <th>lore</th>\n",
              "      <th>tags</th>\n",
              "      <th>partype</th>\n",
              "      <th>Q</th>\n",
              "      <th>W</th>\n",
              "      <th>E</th>\n",
              "      <th>R</th>\n",
              "      <th>Passive</th>\n",
              "    </tr>\n",
              "  </thead>\n",
              "  <tbody>\n",
              "    <tr>\n",
              "      <th>Aatrox</th>\n",
              "      <td>Aatrox</td>\n",
              "      <td>Once honored defenders of Shurima against the ...</td>\n",
              "      <td>[Fighter, Tank]</td>\n",
              "      <td>Blood Well</td>\n",
              "      <td>Aatrox slams his greatsword down, dealing phys...</td>\n",
              "      <td>Aatrox smashes the ground, dealing damage to t...</td>\n",
              "      <td>Passively, Aatrox heals when damaging enemy ch...</td>\n",
              "      <td>Aatrox unleashes his demonic form, fearing nea...</td>\n",
              "      <td>Periodically, Aatrox's next basic attack deals...</td>\n",
              "    </tr>\n",
              "    <tr>\n",
              "      <th>Ahri</th>\n",
              "      <td>Ahri</td>\n",
              "      <td>Innately connected to the latent power of Rune...</td>\n",
              "      <td>[Mage, Assassin]</td>\n",
              "      <td>Mana</td>\n",
              "      <td>Ahri sends out and pulls back her orb, dealing...</td>\n",
              "      <td>Ahri gains a brief burst of movement speed and...</td>\n",
              "      <td>Ahri blows a kiss that damages and charms an e...</td>\n",
              "      <td>Ahri dashes forward and fires essence bolts, d...</td>\n",
              "      <td>When Ahri strikes 9 enemies with her abilities...</td>\n",
              "    </tr>\n",
              "    <tr>\n",
              "      <th>Akali</th>\n",
              "      <td>Akali</td>\n",
              "      <td>Abandoning the Kinkou Order and her title of t...</td>\n",
              "      <td>[Assassin]</td>\n",
              "      <td>Energy</td>\n",
              "      <td>Akali throws out five kunai, dealing damage ba...</td>\n",
              "      <td>Akali drops a cover of smoke and briefly gains...</td>\n",
              "      <td>Flip backward and fire a shuriken forward, dea...</td>\n",
              "      <td>Akali leaps in a direction, damaging enemies s...</td>\n",
              "      <td>Dealing spell damage to a champion creates a r...</td>\n",
              "    </tr>\n",
              "    <tr>\n",
              "      <th>Alistar</th>\n",
              "      <td>Alistar</td>\n",
              "      <td>Always a mighty warrior with a fearsome reputa...</td>\n",
              "      <td>[Tank, Support]</td>\n",
              "      <td>Mana</td>\n",
              "      <td>Alistar smashes the ground, dealing damage to ...</td>\n",
              "      <td>Alistar rams a target with his head, dealing d...</td>\n",
              "      <td>Alistar tramples nearby enemy units, ignoring ...</td>\n",
              "      <td>Alistar lets out a wild roar, removing all cro...</td>\n",
              "      <td>Alistar charges his roar by stunning or displa...</td>\n",
              "    </tr>\n",
              "    <tr>\n",
              "      <th>Amumu</th>\n",
              "      <td>Amumu</td>\n",
              "      <td>Legend claims that Amumu is a lonely and melan...</td>\n",
              "      <td>[Tank, Mage]</td>\n",
              "      <td>Mana</td>\n",
              "      <td>Amumu tosses a sticky bandage at a target, stu...</td>\n",
              "      <td>Overcome by anguish, nearby enemies lose a per...</td>\n",
              "      <td>Permanently reduces the physical damage Amumu ...</td>\n",
              "      <td>Amumu entangles surrounding enemy units in ban...</td>\n",
              "      <td>Amumu's basic attacks &lt;font color='#9b0f5f'&gt;Cu...</td>\n",
              "    </tr>\n",
              "  </tbody>\n",
              "</table>\n",
              "</div>"
            ],
            "text/plain": [
              "            name  ...                                            Passive\n",
              "Aatrox    Aatrox  ...  Periodically, Aatrox's next basic attack deals...\n",
              "Ahri        Ahri  ...  When Ahri strikes 9 enemies with her abilities...\n",
              "Akali      Akali  ...  Dealing spell damage to a champion creates a r...\n",
              "Alistar  Alistar  ...  Alistar charges his roar by stunning or displa...\n",
              "Amumu      Amumu  ...  Amumu's basic attacks <font color='#9b0f5f'>Cu...\n",
              "\n",
              "[5 rows x 9 columns]"
            ]
          },
          "metadata": {
            "tags": []
          },
          "execution_count": 9
        }
      ]
    },
    {
      "cell_type": "markdown",
      "metadata": {
        "id": "Wc-oEly3GwSX"
      },
      "source": [
        "**NOTA**: Para seleccionar un dato del cualquier DataFrame usaremos DataFrame.at[fila,columna]."
      ]
    },
    {
      "cell_type": "code",
      "metadata": {
        "id": "SLOfvqakejS4",
        "colab": {
          "base_uri": "https://localhost:8080/"
        },
        "outputId": "6ab55a12-b8ee-46e5-b0f7-bc48aaf8f0e4"
      },
      "source": [
        "print(frontInfo.at[ 'Yasuo' , 'Q' ])"
      ],
      "execution_count": 10,
      "outputs": [
        {
          "output_type": "stream",
          "text": [
            "Steel Tempest\n"
          ],
          "name": "stdout"
        }
      ]
    },
    {
      "cell_type": "markdown",
      "metadata": {
        "id": "WaJ_pgz5Mk9D"
      },
      "source": [
        "# Recomendador\n",
        "Necesitamos un Dataframe con nombre, todas las skills concatenadas y el lore (que ya teníamos)."
      ]
    },
    {
      "cell_type": "code",
      "metadata": {
        "id": "1eFEr7JCRZZd",
        "colab": {
          "base_uri": "https://localhost:8080/",
          "height": 493
        },
        "outputId": "1124d0f0-1684-4c08-f9fa-a1cd509c9956"
      },
      "source": [
        "#sacar textos preprocesados de las habilidades y lore para sistema de recomendacion\n",
        "\n",
        "\n",
        "#importar librerias\n",
        "from nltk.tokenize import word_tokenize \n",
        "from nltk.corpus import stopwords\n",
        "from nltk.stem import PorterStemmer\n",
        "import nltk\n",
        "nltk.download('punkt')\n",
        "nltk.download('stopwords')\n",
        "\n",
        "#procesar texto habilidades para cada campeon\n",
        "ps = PorterStemmer()\n",
        "bags = pd.DataFrame(columns=['name','skill','lore'])\n",
        "\n",
        "for i in frontInfo[\"id\"]:\n",
        "    stops = set(stopwords.words(\"english\"))\n",
        "    #extraer y procesar informacion sobre skills\n",
        "    habil = word_tokenize(champInfo.at[i,'Q']+champInfo.at[i,'W']+champInfo.at[i,'E']+champInfo.at[i,'R'])\n",
        "    habil = [ps.stem(w) for w in habil if not w in stops and w.isalnum()]\n",
        "    habil = \" \".join(habil)\n",
        "    #extraer y procesar informacion sobre lore\n",
        "    lore = word_tokenize(champInfo.at[i,'lore'])\n",
        "    lore = [ps.stem(w) for w in lore if not w in stops and w.isalnum()]\n",
        "    lore = \" \".join(lore)\n",
        "    #juntar y añadir a dataframe\n",
        "    bags = bags.append({'name':champInfo.at[i,'name'],'skill':habil,'lore':lore},ignore_index=True)\n",
        "\n",
        "display(bags)\n"
      ],
      "execution_count": 11,
      "outputs": [
        {
          "output_type": "stream",
          "text": [
            "[nltk_data] Downloading package punkt to /root/nltk_data...\n",
            "[nltk_data]   Unzipping tokenizers/punkt.zip.\n",
            "[nltk_data] Downloading package stopwords to /root/nltk_data...\n",
            "[nltk_data]   Unzipping corpora/stopwords.zip.\n"
          ],
          "name": "stdout"
        },
        {
          "output_type": "display_data",
          "data": {
            "text/html": [
              "<div>\n",
              "<style scoped>\n",
              "    .dataframe tbody tr th:only-of-type {\n",
              "        vertical-align: middle;\n",
              "    }\n",
              "\n",
              "    .dataframe tbody tr th {\n",
              "        vertical-align: top;\n",
              "    }\n",
              "\n",
              "    .dataframe thead th {\n",
              "        text-align: right;\n",
              "    }\n",
              "</style>\n",
              "<table border=\"1\" class=\"dataframe\">\n",
              "  <thead>\n",
              "    <tr style=\"text-align: right;\">\n",
              "      <th></th>\n",
              "      <th>name</th>\n",
              "      <th>skill</th>\n",
              "      <th>lore</th>\n",
              "    </tr>\n",
              "  </thead>\n",
              "  <tbody>\n",
              "    <tr>\n",
              "      <th>0</th>\n",
              "      <td>Aatrox</td>\n",
              "      <td>aatrox slam greatsword deal physic damag He sw...</td>\n",
              "      <td>onc honor defend shurima void aatrox brethren ...</td>\n",
              "    </tr>\n",
              "    <tr>\n",
              "      <th>1</th>\n",
              "      <td>Ahri</td>\n",
              "      <td>ahri send pull back orb deal magic damag way t...</td>\n",
              "      <td>innat connect latent power runeterra ahri vast...</td>\n",
              "    </tr>\n",
              "    <tr>\n",
              "      <th>2</th>\n",
              "      <td>Akali</td>\n",
              "      <td>akali throw five kunai deal damag base bonu at...</td>\n",
              "      <td>abandon kinkou order titl fist shadow akali st...</td>\n",
              "    </tr>\n",
              "    <tr>\n",
              "      <th>3</th>\n",
              "      <td>Alistar</td>\n",
              "      <td>alistar smash ground deal damag nearbi enemi t...</td>\n",
              "      <td>alway mighti warrior fearsom reput alistar see...</td>\n",
              "    </tr>\n",
              "    <tr>\n",
              "      <th>4</th>\n",
              "      <td>Amumu</td>\n",
              "      <td>amumu toss sticki bandag target stun damag tar...</td>\n",
              "      <td>legend claim amumu lone melancholi soul ancien...</td>\n",
              "    </tr>\n",
              "    <tr>\n",
              "      <th>...</th>\n",
              "      <td>...</td>\n",
              "      <td>...</td>\n",
              "      <td>...</td>\n",
              "    </tr>\n",
              "    <tr>\n",
              "      <th>147</th>\n",
              "      <td>Zed</td>\n",
              "      <td>zed shadow throw br br each shuriken deal dama...</td>\n",
              "      <td>utterli ruthless without merci zed leader orde...</td>\n",
              "    </tr>\n",
              "    <tr>\n",
              "      <th>148</th>\n",
              "      <td>Ziggs</td>\n",
              "      <td>zigg throw bounc bomb deal magic fling explos ...</td>\n",
              "      <td>with love big bomb short fuse yordl zigg explo...</td>\n",
              "    </tr>\n",
              "    <tr>\n",
              "      <th>149</th>\n",
              "      <td>Zilean</td>\n",
              "      <td>toss bomb target area stick unit come near pri...</td>\n",
              "      <td>onc power icathian mage zilean becam obsess pa...</td>\n",
              "    </tr>\n",
              "    <tr>\n",
              "      <th>150</th>\n",
              "      <td>Zoe</td>\n",
              "      <td>zoe fire missil redirect flight deal damag lon...</td>\n",
              "      <td>As embodi mischief imagin chang zoe act cosmic...</td>\n",
              "    </tr>\n",
              "    <tr>\n",
              "      <th>151</th>\n",
              "      <td>Zyra</td>\n",
              "      <td>thick vine spread ground explod spine deal mag...</td>\n",
              "      <td>born ancient sorcer catastroph zyra wrath natu...</td>\n",
              "    </tr>\n",
              "  </tbody>\n",
              "</table>\n",
              "<p>152 rows × 3 columns</p>\n",
              "</div>"
            ],
            "text/plain": [
              "        name  ...                                               lore\n",
              "0     Aatrox  ...  onc honor defend shurima void aatrox brethren ...\n",
              "1       Ahri  ...  innat connect latent power runeterra ahri vast...\n",
              "2      Akali  ...  abandon kinkou order titl fist shadow akali st...\n",
              "3    Alistar  ...  alway mighti warrior fearsom reput alistar see...\n",
              "4      Amumu  ...  legend claim amumu lone melancholi soul ancien...\n",
              "..       ...  ...                                                ...\n",
              "147      Zed  ...  utterli ruthless without merci zed leader orde...\n",
              "148    Ziggs  ...  with love big bomb short fuse yordl zigg explo...\n",
              "149   Zilean  ...  onc power icathian mage zilean becam obsess pa...\n",
              "150      Zoe  ...  As embodi mischief imagin chang zoe act cosmic...\n",
              "151     Zyra  ...  born ancient sorcer catastroph zyra wrath natu...\n",
              "\n",
              "[152 rows x 3 columns]"
            ]
          },
          "metadata": {
            "tags": []
          }
        }
      ]
    },
    {
      "cell_type": "markdown",
      "metadata": {
        "id": "paVFavsxNIWh"
      },
      "source": [
        "Aplicar *bag of words* a los dos campos y generear los vectores para el recomendados"
      ]
    },
    {
      "cell_type": "code",
      "metadata": {
        "id": "91421GOPezoJ",
        "colab": {
          "base_uri": "https://localhost:8080/",
          "height": 771
        },
        "outputId": "2c26aa1b-7406-49df-fce1-ae718d7e733d"
      },
      "source": [
        "#pasar dataframe texto preprocesado a bag of words y añadir a dataframe\n",
        "from sklearn.feature_extraction.text import TfidfVectorizer\n",
        "bagOfWordsModel = TfidfVectorizer()\n",
        "vect_bag_skills = []\n",
        "vect_bag_lore = []\n",
        "\n",
        "#bag of words de skills y lore\n",
        "bagOfWordsModel.fit(bags['skill'])\n",
        "bag_skills = bagOfWordsModel.transform(bags['skill'])\n",
        "\n",
        "#bag of words de lore\n",
        "bagOfWordsModel = TfidfVectorizer()\n",
        "bagOfWordsModel.fit(bags['lore'])\n",
        "bag_lore = bagOfWordsModel.transform(bags['lore'])\n",
        "\n",
        "#generar vectores con los bags de skill y lore\n",
        "for i in bag_skills:\n",
        "  vect_bag_skills.append(i)\n",
        "for i in bag_lore:\n",
        "  vect_bag_lore.append(i)\n",
        "\n",
        "#añadir vectores como columna al dataframe\n",
        "bags['bag_skill'] = vect_bag_skills\n",
        "bags['bag_lore'] = vect_bag_lore\n",
        "display(bags)"
      ],
      "execution_count": 12,
      "outputs": [
        {
          "output_type": "display_data",
          "data": {
            "text/html": [
              "<div>\n",
              "<style scoped>\n",
              "    .dataframe tbody tr th:only-of-type {\n",
              "        vertical-align: middle;\n",
              "    }\n",
              "\n",
              "    .dataframe tbody tr th {\n",
              "        vertical-align: top;\n",
              "    }\n",
              "\n",
              "    .dataframe thead th {\n",
              "        text-align: right;\n",
              "    }\n",
              "</style>\n",
              "<table border=\"1\" class=\"dataframe\">\n",
              "  <thead>\n",
              "    <tr style=\"text-align: right;\">\n",
              "      <th></th>\n",
              "      <th>name</th>\n",
              "      <th>skill</th>\n",
              "      <th>lore</th>\n",
              "      <th>bag_skill</th>\n",
              "      <th>bag_lore</th>\n",
              "    </tr>\n",
              "  </thead>\n",
              "  <tbody>\n",
              "    <tr>\n",
              "      <th>0</th>\n",
              "      <td>Aatrox</td>\n",
              "      <td>aatrox slam greatsword deal physic damag He sw...</td>\n",
              "      <td>onc honor defend shurima void aatrox brethren ...</td>\n",
              "      <td>(0, 1357)\\t0.11745865911977424\\n  (0, 1307)\\...</td>\n",
              "      <td>(0, 2466)\\t0.11957558735673952\\n  (0, 2439)\\...</td>\n",
              "    </tr>\n",
              "    <tr>\n",
              "      <th>1</th>\n",
              "      <td>Ahri</td>\n",
              "      <td>ahri send pull back orb deal magic damag way t...</td>\n",
              "      <td>innat connect latent power runeterra ahri vast...</td>\n",
              "      <td>(0, 1407)\\t0.3091455263021661\\n  (0, 1399)\\t...</td>\n",
              "      <td>(0, 2349)\\t0.17465849933115274\\n  (0, 2214)\\...</td>\n",
              "    </tr>\n",
              "    <tr>\n",
              "      <th>2</th>\n",
              "      <td>Akali</td>\n",
              "      <td>akali throw five kunai deal damag base bonu at...</td>\n",
              "      <td>abandon kinkou order titl fist shadow akali st...</td>\n",
              "      <td>(0, 1415)\\t0.11049841026935704\\n  (0, 1368)\\...</td>\n",
              "      <td>(0, 2416)\\t0.12447302451809314\\n  (0, 2194)\\...</td>\n",
              "    </tr>\n",
              "    <tr>\n",
              "      <th>3</th>\n",
              "      <td>Alistar</td>\n",
              "      <td>alistar smash ground deal damag nearbi enemi t...</td>\n",
              "      <td>alway mighti warrior fearsom reput alistar see...</td>\n",
              "      <td>(0, 1422)\\t0.18820759156730632\\n  (0, 1356)\\...</td>\n",
              "      <td>(0, 2416)\\t0.13582511527225036\\n  (0, 2406)\\...</td>\n",
              "    </tr>\n",
              "    <tr>\n",
              "      <th>4</th>\n",
              "      <td>Amumu</td>\n",
              "      <td>amumu toss sticki bandag target stun damag tar...</td>\n",
              "      <td>legend claim amumu lone melancholi soul ancien...</td>\n",
              "      <td>(0, 1435)\\t0.13829057594843785\\n  (0, 1357)\\...</td>\n",
              "      <td>(0, 2468)\\t0.1677688047071753\\n  (0, 2462)\\t...</td>\n",
              "    </tr>\n",
              "    <tr>\n",
              "      <th>...</th>\n",
              "      <td>...</td>\n",
              "      <td>...</td>\n",
              "      <td>...</td>\n",
              "      <td>...</td>\n",
              "      <td>...</td>\n",
              "    </tr>\n",
              "    <tr>\n",
              "      <th>147</th>\n",
              "      <td>Zed</td>\n",
              "      <td>zed shadow throw br br each shuriken deal dama...</td>\n",
              "      <td>utterli ruthless without merci zed leader orde...</td>\n",
              "      <td>(0, 1452)\\t0.5923182988051594\\n  (0, 1413)\\t...</td>\n",
              "      <td>(0, 2498)\\t0.3577721694045413\\n  (0, 2456)\\t...</td>\n",
              "    </tr>\n",
              "    <tr>\n",
              "      <th>148</th>\n",
              "      <td>Ziggs</td>\n",
              "      <td>zigg throw bounc bomb deal magic fling explos ...</td>\n",
              "      <td>with love big bomb short fuse yordl zigg explo...</td>\n",
              "      <td>(0, 1456)\\t0.1017313074683368\\n  (0, 1454)\\t...</td>\n",
              "      <td>(0, 2502)\\t0.34248585930095526\\n  (0, 2495)\\...</td>\n",
              "    </tr>\n",
              "    <tr>\n",
              "      <th>149</th>\n",
              "      <td>Zilean</td>\n",
              "      <td>toss bomb target area stick unit come near pri...</td>\n",
              "      <td>onc power icathian mage zilean becam obsess pa...</td>\n",
              "      <td>(0, 1356)\\t0.1523508693422858\\n  (0, 1316)\\t...</td>\n",
              "      <td>(0, 2503)\\t0.3160530927279859\\n  (0, 2452)\\t...</td>\n",
              "    </tr>\n",
              "    <tr>\n",
              "      <th>150</th>\n",
              "      <td>Zoe</td>\n",
              "      <td>zoe fire missil redirect flight deal damag lon...</td>\n",
              "      <td>As embodi mischief imagin chang zoe act cosmic...</td>\n",
              "      <td>(0, 1455)\\t0.20019837449093777\\n  (0, 1413)\\...</td>\n",
              "      <td>(0, 2504)\\t0.4177284028921276\\n  (0, 2462)\\t...</td>\n",
              "    </tr>\n",
              "    <tr>\n",
              "      <th>151</th>\n",
              "      <td>Zyra</td>\n",
              "      <td>thick vine spread ground explod spine deal mag...</td>\n",
              "      <td>born ancient sorcer catastroph zyra wrath natu...</td>\n",
              "      <td>(0, 1458)\\t0.19558827565186618\\n  (0, 1430)\\...</td>\n",
              "      <td>(0, 2505)\\t0.3501497192201877\\n  (0, 2469)\\t...</td>\n",
              "    </tr>\n",
              "  </tbody>\n",
              "</table>\n",
              "<p>152 rows × 5 columns</p>\n",
              "</div>"
            ],
            "text/plain": [
              "        name  ...                                           bag_lore\n",
              "0     Aatrox  ...    (0, 2466)\\t0.11957558735673952\\n  (0, 2439)\\...\n",
              "1       Ahri  ...    (0, 2349)\\t0.17465849933115274\\n  (0, 2214)\\...\n",
              "2      Akali  ...    (0, 2416)\\t0.12447302451809314\\n  (0, 2194)\\...\n",
              "3    Alistar  ...    (0, 2416)\\t0.13582511527225036\\n  (0, 2406)\\...\n",
              "4      Amumu  ...    (0, 2468)\\t0.1677688047071753\\n  (0, 2462)\\t...\n",
              "..       ...  ...                                                ...\n",
              "147      Zed  ...    (0, 2498)\\t0.3577721694045413\\n  (0, 2456)\\t...\n",
              "148    Ziggs  ...    (0, 2502)\\t0.34248585930095526\\n  (0, 2495)\\...\n",
              "149   Zilean  ...    (0, 2503)\\t0.3160530927279859\\n  (0, 2452)\\t...\n",
              "150      Zoe  ...    (0, 2504)\\t0.4177284028921276\\n  (0, 2462)\\t...\n",
              "151     Zyra  ...    (0, 2505)\\t0.3501497192201877\\n  (0, 2469)\\t...\n",
              "\n",
              "[152 rows x 5 columns]"
            ]
          },
          "metadata": {
            "tags": []
          }
        }
      ]
    },
    {
      "cell_type": "markdown",
      "metadata": {
        "id": "tzH4T44HNfZJ"
      },
      "source": [
        "Recomendador, usamos distancias coseno para las skills y euclídeas para el lore. A base de prueba y error son con las que mejores resultados obtuvimos."
      ]
    },
    {
      "cell_type": "code",
      "metadata": {
        "id": "MpnxJrBk8n3P",
        "colab": {
          "base_uri": "https://localhost:8080/"
        },
        "outputId": "4997585b-5771-4530-b980-eee681df7dbc"
      },
      "source": [
        "#obtener campeones similares dado un nombre\n",
        "from sklearn.metrics import pairwise_distances\n",
        "\n",
        "def intersection(lst1, lst2): \n",
        "    lst3 = [value for value in lst1 if value in lst2] \n",
        "    return lst3 \n",
        "\n",
        "def recomendar(nombre):\n",
        "  #obtener posicion del campeon buscado\n",
        "  pos = -1;\n",
        "  for i in bags.index:\n",
        "    if (bags.at[i,'name']==nombre):\n",
        "      pos = i;\n",
        "      break;\n",
        "  \n",
        "  #generar vectores con distancias\n",
        "  vect_skill = []\n",
        "  vect_lore = []\n",
        "  for i in bags.index:\n",
        "    #calcular distancias de vectores\n",
        "    vect_skill.append(pairwise_distances(bags.at[i,'bag_skill'],bags.at[pos,'bag_skill'],metric='cosine')[0][0])\n",
        "    vect_lore.append(pairwise_distances(bags.at[i,'bag_lore'],bags.at[pos,'bag_lore'],metric='euclidean')[0][0])\n",
        "\n",
        "  #vector similaridad habilidades\n",
        "  distance_scores = list(enumerate(vect_skill))\n",
        "  ordered_scores = sorted(distance_scores, key=lambda x: x[1])\n",
        "  skills_sim = ordered_scores[1:11]\n",
        "\n",
        "  #vector similaridad lore\n",
        "  distance_scores = list(enumerate(vect_lore))\n",
        "  ordered_scores = sorted(distance_scores, key=lambda x: x[1])\n",
        "  lore_sim = ordered_scores[0:10]\n",
        "\n",
        "  #mostrar campeones similares segun skill\n",
        "  print(\"> Segun skills: \")\n",
        "  count = 0;\n",
        "  lista_skills = []\n",
        "  for i in skills_sim:\n",
        "    count += 1;\n",
        "    name = bags.at[i[0],'name'];\n",
        "    print(str(count) + \" : \" + name)\n",
        "    lista_skills.append(name)\n",
        "    #display(champInfo.iloc[ i[0] , : ])\n",
        "  \n",
        "  #mostrar campeones similares segun lore\n",
        "  print(\"> Segun lore: \")\n",
        "  count = 0;\n",
        "  lista_lore = []\n",
        "  for i in lore_sim:\n",
        "    count += 1;\n",
        "    name = bags.at[i[0],'name'];\n",
        "    print(str(count) + \" : \" + name)\n",
        "    lista_lore.append(name)\n",
        "    #display(champInfo.iloc[ i[0] , : ])\n",
        "  print(\"Interseccion:\")\n",
        "  print(intersection(lista_lore, lista_skills))\n",
        "\n",
        "  \n",
        "\n",
        "\n",
        "recomendar('Sona')"
      ],
      "execution_count": null,
      "outputs": [
        {
          "output_type": "stream",
          "text": [
            "> Segun skills: \n",
            "1 : Nami\n",
            "2 : Lulu\n",
            "3 : Taric\n",
            "4 : Seraphine\n",
            "5 : Rakan\n",
            "6 : Rumble\n",
            "7 : Kassadin\n",
            "8 : Camille\n",
            "9 : Soraka\n",
            "10 : Sivir\n",
            "> Segun lore: \n",
            "1 : Sona\n",
            "2 : Galio\n",
            "3 : Fizz\n",
            "4 : Akali\n",
            "5 : Rakan\n",
            "6 : Vayne\n",
            "7 : Poppy\n",
            "8 : Fiora\n",
            "9 : Tahm Kench\n",
            "10 : Karma\n",
            "Interseccion:\n",
            "['Rakan']\n"
          ],
          "name": "stdout"
        }
      ]
    },
    {
      "cell_type": "markdown",
      "metadata": {
        "id": "WsWf__VDKrKX"
      },
      "source": [
        "# Valorador"
      ]
    },
    {
      "cell_type": "markdown",
      "metadata": {
        "id": "HNN7g5KgLf3K"
      },
      "source": [
        "Recoger tweets recientes de un campeon, por ejemplo Qiyana."
      ]
    },
    {
      "cell_type": "code",
      "metadata": {
        "colab": {
          "base_uri": "https://localhost:8080/",
          "height": 367
        },
        "id": "wuUMTaKKKzA3",
        "outputId": "8f7ed90f-50f1-4ca9-8978-102fc1f590d6"
      },
      "source": [
        "import os\n",
        "import tweepy as tw\n",
        "import pandas as pd\n",
        "from datetime import datetime, timedelta\n",
        "\n",
        "\n",
        "d = datetime.today() - timedelta(days=30)\n",
        "\n",
        "date_time = d.strftime(\"%Y-%m-%d\")\n",
        "\n",
        "\n",
        "num = 0\n",
        "Losdatos = pd.read_csv('TweetsValorados.csv')\n",
        "del Losdatos[Losdatos.columns[0]]\n",
        "\n",
        "consumer_key= 'KatBRlOrrS5Ocj1spbU4kY3Nf'\n",
        "consumer_secret= 'GLcJQOSrNi2btYSu8UUqaVVpKcxLnMdjB9ffkU0LtauxPpjOoL'\n",
        "access_token= '1337738322945462272-nR5TSl5hGrTojizeznHRLOOAuKb20t'\n",
        "access_token_secret= 'F4qVZ7icDX6Gpiqa7Z1DSIXUuAdvbTXCXqMVfooEL2WTP'\n",
        "\n",
        "auth = tw.OAuthHandler(consumer_key, consumer_secret)\n",
        "auth.set_access_token(access_token, access_token_secret)\n",
        "api = tw.API(auth, wait_on_rate_limit=True)\n",
        "\n",
        "def BuscarTweets(nombre,date):\n",
        "  search_words = nombre + \" -filter:retweets\" + '#LOL'\n",
        "  date_since = date\n",
        "\n",
        "  tweets = tw.Cursor(api.search,\n",
        "              q=search_words,\n",
        "              lang=\"en\",\n",
        "              since=date_since).items(250)\n",
        "\n",
        "  tuits = [tweet.text for tweet in tweets]\n",
        "  if len(tuits) < 50:\n",
        "      search_words = nombre + \" -filter:retweets\"\n",
        "      tweets = tw.Cursor(api.search,\n",
        "              q=search_words,\n",
        "              lang=\"en\",\n",
        "              since=date_since).items(250)\n",
        "      newtuits = [tweet.text for tweet in tweets]      \n",
        "      tuits = tuits.extend(newtuits)\n",
        "  tweet_text = pd.DataFrame(data=tuits,columns=['tweet'])\n",
        "  return tuits\n",
        "tuits = BuscarTweets(\"Yone\",date_time)\n"
      ],
      "execution_count": 176,
      "outputs": [
        {
          "output_type": "error",
          "ename": "KeyboardInterrupt",
          "evalue": "ignored",
          "traceback": [
            "\u001b[0;31m---------------------------------------------------------------------------\u001b[0m",
            "\u001b[0;31mKeyboardInterrupt\u001b[0m                         Traceback (most recent call last)",
            "\u001b[0;32m<ipython-input-176-aaed64ae8901>\u001b[0m in \u001b[0;36m<module>\u001b[0;34m()\u001b[0m\n\u001b[1;32m     43\u001b[0m   \u001b[0mtweet_text\u001b[0m \u001b[0;34m=\u001b[0m \u001b[0mpd\u001b[0m\u001b[0;34m.\u001b[0m\u001b[0mDataFrame\u001b[0m\u001b[0;34m(\u001b[0m\u001b[0mdata\u001b[0m\u001b[0;34m=\u001b[0m\u001b[0mtuits\u001b[0m\u001b[0;34m,\u001b[0m\u001b[0mcolumns\u001b[0m\u001b[0;34m=\u001b[0m\u001b[0;34m[\u001b[0m\u001b[0;34m'tweet'\u001b[0m\u001b[0;34m]\u001b[0m\u001b[0;34m)\u001b[0m\u001b[0;34m\u001b[0m\u001b[0;34m\u001b[0m\u001b[0m\n\u001b[1;32m     44\u001b[0m   \u001b[0;32mreturn\u001b[0m \u001b[0mtuits\u001b[0m\u001b[0;34m\u001b[0m\u001b[0;34m\u001b[0m\u001b[0m\n\u001b[0;32m---> 45\u001b[0;31m \u001b[0mtuits\u001b[0m \u001b[0;34m=\u001b[0m \u001b[0mBuscarTweets\u001b[0m\u001b[0;34m(\u001b[0m\u001b[0;34m\"Yone\"\u001b[0m\u001b[0;34m,\u001b[0m\u001b[0mdate_time\u001b[0m\u001b[0;34m)\u001b[0m\u001b[0;34m\u001b[0m\u001b[0;34m\u001b[0m\u001b[0m\n\u001b[0m",
            "\u001b[0;32m<ipython-input-176-aaed64ae8901>\u001b[0m in \u001b[0;36mBuscarTweets\u001b[0;34m(nombre, date)\u001b[0m\n\u001b[1;32m     32\u001b[0m               since=date_since).items(250)\n\u001b[1;32m     33\u001b[0m \u001b[0;34m\u001b[0m\u001b[0m\n\u001b[0;32m---> 34\u001b[0;31m   \u001b[0mtuits\u001b[0m \u001b[0;34m=\u001b[0m \u001b[0;34m[\u001b[0m\u001b[0mtweet\u001b[0m\u001b[0;34m.\u001b[0m\u001b[0mtext\u001b[0m \u001b[0;32mfor\u001b[0m \u001b[0mtweet\u001b[0m \u001b[0;32min\u001b[0m \u001b[0mtweets\u001b[0m\u001b[0;34m]\u001b[0m\u001b[0;34m\u001b[0m\u001b[0;34m\u001b[0m\u001b[0m\n\u001b[0m\u001b[1;32m     35\u001b[0m   \u001b[0;32mif\u001b[0m \u001b[0mlen\u001b[0m\u001b[0;34m(\u001b[0m\u001b[0mtuits\u001b[0m\u001b[0;34m)\u001b[0m \u001b[0;34m<\u001b[0m \u001b[0;36m50\u001b[0m\u001b[0;34m:\u001b[0m\u001b[0;34m\u001b[0m\u001b[0;34m\u001b[0m\u001b[0m\n\u001b[1;32m     36\u001b[0m       \u001b[0msearch_words\u001b[0m \u001b[0;34m=\u001b[0m \u001b[0mnombre\u001b[0m \u001b[0;34m+\u001b[0m \u001b[0;34m\" -filter:retweets\"\u001b[0m\u001b[0;34m\u001b[0m\u001b[0;34m\u001b[0m\u001b[0m\n",
            "\u001b[0;32m<ipython-input-176-aaed64ae8901>\u001b[0m in \u001b[0;36m<listcomp>\u001b[0;34m(.0)\u001b[0m\n\u001b[1;32m     32\u001b[0m               since=date_since).items(250)\n\u001b[1;32m     33\u001b[0m \u001b[0;34m\u001b[0m\u001b[0m\n\u001b[0;32m---> 34\u001b[0;31m   \u001b[0mtuits\u001b[0m \u001b[0;34m=\u001b[0m \u001b[0;34m[\u001b[0m\u001b[0mtweet\u001b[0m\u001b[0;34m.\u001b[0m\u001b[0mtext\u001b[0m \u001b[0;32mfor\u001b[0m \u001b[0mtweet\u001b[0m \u001b[0;32min\u001b[0m \u001b[0mtweets\u001b[0m\u001b[0;34m]\u001b[0m\u001b[0;34m\u001b[0m\u001b[0;34m\u001b[0m\u001b[0m\n\u001b[0m\u001b[1;32m     35\u001b[0m   \u001b[0;32mif\u001b[0m \u001b[0mlen\u001b[0m\u001b[0;34m(\u001b[0m\u001b[0mtuits\u001b[0m\u001b[0;34m)\u001b[0m \u001b[0;34m<\u001b[0m \u001b[0;36m50\u001b[0m\u001b[0;34m:\u001b[0m\u001b[0;34m\u001b[0m\u001b[0;34m\u001b[0m\u001b[0m\n\u001b[1;32m     36\u001b[0m       \u001b[0msearch_words\u001b[0m \u001b[0;34m=\u001b[0m \u001b[0mnombre\u001b[0m \u001b[0;34m+\u001b[0m \u001b[0;34m\" -filter:retweets\"\u001b[0m\u001b[0;34m\u001b[0m\u001b[0;34m\u001b[0m\u001b[0m\n",
            "\u001b[0;32m/usr/local/lib/python3.6/dist-packages/tweepy/cursor.py\u001b[0m in \u001b[0;36m__next__\u001b[0;34m(self)\u001b[0m\n\u001b[1;32m     47\u001b[0m \u001b[0;34m\u001b[0m\u001b[0m\n\u001b[1;32m     48\u001b[0m     \u001b[0;32mdef\u001b[0m \u001b[0m__next__\u001b[0m\u001b[0;34m(\u001b[0m\u001b[0mself\u001b[0m\u001b[0;34m)\u001b[0m\u001b[0;34m:\u001b[0m\u001b[0;34m\u001b[0m\u001b[0;34m\u001b[0m\u001b[0m\n\u001b[0;32m---> 49\u001b[0;31m         \u001b[0;32mreturn\u001b[0m \u001b[0mself\u001b[0m\u001b[0;34m.\u001b[0m\u001b[0mnext\u001b[0m\u001b[0;34m(\u001b[0m\u001b[0;34m)\u001b[0m\u001b[0;34m\u001b[0m\u001b[0;34m\u001b[0m\u001b[0m\n\u001b[0m\u001b[1;32m     50\u001b[0m \u001b[0;34m\u001b[0m\u001b[0m\n\u001b[1;32m     51\u001b[0m     \u001b[0;32mdef\u001b[0m \u001b[0mnext\u001b[0m\u001b[0;34m(\u001b[0m\u001b[0mself\u001b[0m\u001b[0;34m)\u001b[0m\u001b[0;34m:\u001b[0m\u001b[0;34m\u001b[0m\u001b[0;34m\u001b[0m\u001b[0m\n",
            "\u001b[0;32m/usr/local/lib/python3.6/dist-packages/tweepy/cursor.py\u001b[0m in \u001b[0;36mnext\u001b[0;34m(self)\u001b[0m\n\u001b[1;32m    195\u001b[0m         \u001b[0;32mif\u001b[0m \u001b[0mself\u001b[0m\u001b[0;34m.\u001b[0m\u001b[0mcurrent_page\u001b[0m \u001b[0;32mis\u001b[0m \u001b[0;32mNone\u001b[0m \u001b[0;32mor\u001b[0m \u001b[0mself\u001b[0m\u001b[0;34m.\u001b[0m\u001b[0mpage_index\u001b[0m \u001b[0;34m==\u001b[0m \u001b[0mlen\u001b[0m\u001b[0;34m(\u001b[0m\u001b[0mself\u001b[0m\u001b[0;34m.\u001b[0m\u001b[0mcurrent_page\u001b[0m\u001b[0;34m)\u001b[0m \u001b[0;34m-\u001b[0m \u001b[0;36m1\u001b[0m\u001b[0;34m:\u001b[0m\u001b[0;34m\u001b[0m\u001b[0;34m\u001b[0m\u001b[0m\n\u001b[1;32m    196\u001b[0m             \u001b[0;31m# Reached end of current page, get the next page...\u001b[0m\u001b[0;34m\u001b[0m\u001b[0;34m\u001b[0m\u001b[0;34m\u001b[0m\u001b[0m\n\u001b[0;32m--> 197\u001b[0;31m             \u001b[0mself\u001b[0m\u001b[0;34m.\u001b[0m\u001b[0mcurrent_page\u001b[0m \u001b[0;34m=\u001b[0m \u001b[0mself\u001b[0m\u001b[0;34m.\u001b[0m\u001b[0mpage_iterator\u001b[0m\u001b[0;34m.\u001b[0m\u001b[0mnext\u001b[0m\u001b[0;34m(\u001b[0m\u001b[0;34m)\u001b[0m\u001b[0;34m\u001b[0m\u001b[0;34m\u001b[0m\u001b[0m\n\u001b[0m\u001b[1;32m    198\u001b[0m             \u001b[0mself\u001b[0m\u001b[0;34m.\u001b[0m\u001b[0mpage_index\u001b[0m \u001b[0;34m=\u001b[0m \u001b[0;34m-\u001b[0m\u001b[0;36m1\u001b[0m\u001b[0;34m\u001b[0m\u001b[0;34m\u001b[0m\u001b[0m\n\u001b[1;32m    199\u001b[0m         \u001b[0mself\u001b[0m\u001b[0;34m.\u001b[0m\u001b[0mpage_index\u001b[0m \u001b[0;34m+=\u001b[0m \u001b[0;36m1\u001b[0m\u001b[0;34m\u001b[0m\u001b[0;34m\u001b[0m\u001b[0m\n",
            "\u001b[0;32m/usr/local/lib/python3.6/dist-packages/tweepy/cursor.py\u001b[0m in \u001b[0;36mnext\u001b[0;34m(self)\u001b[0m\n\u001b[1;32m    106\u001b[0m \u001b[0;34m\u001b[0m\u001b[0m\n\u001b[1;32m    107\u001b[0m         \u001b[0;32mif\u001b[0m \u001b[0mself\u001b[0m\u001b[0;34m.\u001b[0m\u001b[0mindex\u001b[0m \u001b[0;34m>=\u001b[0m \u001b[0mlen\u001b[0m\u001b[0;34m(\u001b[0m\u001b[0mself\u001b[0m\u001b[0;34m.\u001b[0m\u001b[0mresults\u001b[0m\u001b[0;34m)\u001b[0m \u001b[0;34m-\u001b[0m \u001b[0;36m1\u001b[0m\u001b[0;34m:\u001b[0m\u001b[0;34m\u001b[0m\u001b[0;34m\u001b[0m\u001b[0m\n\u001b[0;32m--> 108\u001b[0;31m             \u001b[0mdata\u001b[0m \u001b[0;34m=\u001b[0m \u001b[0mself\u001b[0m\u001b[0;34m.\u001b[0m\u001b[0mmethod\u001b[0m\u001b[0;34m(\u001b[0m\u001b[0mmax_id\u001b[0m\u001b[0;34m=\u001b[0m\u001b[0mself\u001b[0m\u001b[0;34m.\u001b[0m\u001b[0mmax_id\u001b[0m\u001b[0;34m,\u001b[0m \u001b[0mparser\u001b[0m\u001b[0;34m=\u001b[0m\u001b[0mRawParser\u001b[0m\u001b[0;34m(\u001b[0m\u001b[0;34m)\u001b[0m\u001b[0;34m,\u001b[0m \u001b[0;34m*\u001b[0m\u001b[0mself\u001b[0m\u001b[0;34m.\u001b[0m\u001b[0margs\u001b[0m\u001b[0;34m,\u001b[0m \u001b[0;34m**\u001b[0m\u001b[0mself\u001b[0m\u001b[0;34m.\u001b[0m\u001b[0mkargs\u001b[0m\u001b[0;34m)\u001b[0m\u001b[0;34m\u001b[0m\u001b[0;34m\u001b[0m\u001b[0m\n\u001b[0m\u001b[1;32m    109\u001b[0m \u001b[0;34m\u001b[0m\u001b[0m\n\u001b[1;32m    110\u001b[0m             \u001b[0;32mif\u001b[0m \u001b[0mhasattr\u001b[0m\u001b[0;34m(\u001b[0m\u001b[0mself\u001b[0m\u001b[0;34m.\u001b[0m\u001b[0mmethod\u001b[0m\u001b[0;34m,\u001b[0m \u001b[0;34m'__self__'\u001b[0m\u001b[0;34m)\u001b[0m\u001b[0;34m:\u001b[0m\u001b[0;34m\u001b[0m\u001b[0;34m\u001b[0m\u001b[0m\n",
            "\u001b[0;32m/usr/local/lib/python3.6/dist-packages/tweepy/binder.py\u001b[0m in \u001b[0;36m_call\u001b[0;34m(*args, **kwargs)\u001b[0m\n\u001b[1;32m    248\u001b[0m             \u001b[0;32mreturn\u001b[0m \u001b[0mmethod\u001b[0m\u001b[0;34m\u001b[0m\u001b[0;34m\u001b[0m\u001b[0m\n\u001b[1;32m    249\u001b[0m         \u001b[0;32melse\u001b[0m\u001b[0;34m:\u001b[0m\u001b[0;34m\u001b[0m\u001b[0;34m\u001b[0m\u001b[0m\n\u001b[0;32m--> 250\u001b[0;31m             \u001b[0;32mreturn\u001b[0m \u001b[0mmethod\u001b[0m\u001b[0;34m.\u001b[0m\u001b[0mexecute\u001b[0m\u001b[0;34m(\u001b[0m\u001b[0;34m)\u001b[0m\u001b[0;34m\u001b[0m\u001b[0;34m\u001b[0m\u001b[0m\n\u001b[0m\u001b[1;32m    251\u001b[0m \u001b[0;34m\u001b[0m\u001b[0m\n\u001b[1;32m    252\u001b[0m     \u001b[0;31m# Set pagination mode\u001b[0m\u001b[0;34m\u001b[0m\u001b[0;34m\u001b[0m\u001b[0;34m\u001b[0m\u001b[0m\n",
            "\u001b[0;32m/usr/local/lib/python3.6/dist-packages/tweepy/binder.py\u001b[0m in \u001b[0;36mexecute\u001b[0;34m(self)\u001b[0m\n\u001b[1;32m    162\u001b[0m                                     \u001b[0;32mif\u001b[0m \u001b[0mself\u001b[0m\u001b[0;34m.\u001b[0m\u001b[0mwait_on_rate_limit_notify\u001b[0m\u001b[0;34m:\u001b[0m\u001b[0;34m\u001b[0m\u001b[0;34m\u001b[0m\u001b[0m\n\u001b[1;32m    163\u001b[0m                                         \u001b[0mlog\u001b[0m\u001b[0;34m.\u001b[0m\u001b[0mwarning\u001b[0m\u001b[0;34m(\u001b[0m\u001b[0;34m\"Rate limit reached. Sleeping for: %d\"\u001b[0m \u001b[0;34m%\u001b[0m \u001b[0msleep_time\u001b[0m\u001b[0;34m)\u001b[0m\u001b[0;34m\u001b[0m\u001b[0;34m\u001b[0m\u001b[0m\n\u001b[0;32m--> 164\u001b[0;31m                                     \u001b[0mtime\u001b[0m\u001b[0;34m.\u001b[0m\u001b[0msleep\u001b[0m\u001b[0;34m(\u001b[0m\u001b[0msleep_time\u001b[0m \u001b[0;34m+\u001b[0m \u001b[0;36m5\u001b[0m\u001b[0;34m)\u001b[0m  \u001b[0;31m# sleep for few extra sec\u001b[0m\u001b[0;34m\u001b[0m\u001b[0;34m\u001b[0m\u001b[0m\n\u001b[0m\u001b[1;32m    165\u001b[0m \u001b[0;34m\u001b[0m\u001b[0m\n\u001b[1;32m    166\u001b[0m                 \u001b[0;31m# if self.wait_on_rate_limit and self._reset_time is not None and \\\u001b[0m\u001b[0;34m\u001b[0m\u001b[0;34m\u001b[0m\u001b[0;34m\u001b[0m\u001b[0m\n",
            "\u001b[0;31mKeyboardInterrupt\u001b[0m: "
          ]
        }
      ]
    },
    {
      "cell_type": "code",
      "metadata": {
        "colab": {
          "base_uri": "https://localhost:8080/",
          "height": 239
        },
        "id": "_w8Hu90W5zag",
        "outputId": "466dd67a-911e-4432-fa8f-8bef04fd3f67"
      },
      "source": [
        "import ipywidgets as widgets\n",
        "if len(tuits) > 0:\n",
        "\n",
        "  eltweet = tuits[num]\n",
        "  num = num +1\n",
        "  if num >= len(tuits):\n",
        "    num = 0\n",
        "  print(eltweet)\n",
        "  resultado = widgets.ToggleButtons(\n",
        "      options=['Positivo', 'Negativo', 'Descartar'],\n",
        "      description='Valoracion:',\n",
        "      disabled=False,\n",
        "      button_style='', # 'success', 'info', 'warning', 'danger' or ''\n",
        "      tooltips=['Comentario Positivo', 'Comentario negativo', 'Comentario indiferente'],\n",
        "\n",
        "  )\n",
        "\n",
        "resultado"
      ],
      "execution_count": 172,
      "outputs": [
        {
          "output_type": "error",
          "ename": "TypeError",
          "evalue": "ignored",
          "traceback": [
            "\u001b[0;31m---------------------------------------------------------------------------\u001b[0m",
            "\u001b[0;31mTypeError\u001b[0m                                 Traceback (most recent call last)",
            "\u001b[0;32m<ipython-input-172-c79bfdcd0b86>\u001b[0m in \u001b[0;36m<module>\u001b[0;34m()\u001b[0m\n\u001b[1;32m      1\u001b[0m \u001b[0;32mimport\u001b[0m \u001b[0mipywidgets\u001b[0m \u001b[0;32mas\u001b[0m \u001b[0mwidgets\u001b[0m\u001b[0;34m\u001b[0m\u001b[0;34m\u001b[0m\u001b[0m\n\u001b[0;32m----> 2\u001b[0;31m \u001b[0;32mif\u001b[0m \u001b[0mlen\u001b[0m\u001b[0;34m(\u001b[0m\u001b[0mtuits\u001b[0m\u001b[0;34m)\u001b[0m \u001b[0;34m>\u001b[0m \u001b[0;36m0\u001b[0m\u001b[0;34m:\u001b[0m\u001b[0;34m\u001b[0m\u001b[0;34m\u001b[0m\u001b[0m\n\u001b[0m\u001b[1;32m      3\u001b[0m \u001b[0;34m\u001b[0m\u001b[0m\n\u001b[1;32m      4\u001b[0m   \u001b[0meltweet\u001b[0m \u001b[0;34m=\u001b[0m \u001b[0mtuits\u001b[0m\u001b[0;34m[\u001b[0m\u001b[0mnum\u001b[0m\u001b[0;34m]\u001b[0m\u001b[0;34m\u001b[0m\u001b[0;34m\u001b[0m\u001b[0m\n\u001b[1;32m      5\u001b[0m   \u001b[0mnum\u001b[0m \u001b[0;34m=\u001b[0m \u001b[0mnum\u001b[0m \u001b[0;34m+\u001b[0m\u001b[0;36m1\u001b[0m\u001b[0;34m\u001b[0m\u001b[0;34m\u001b[0m\u001b[0m\n",
            "\u001b[0;31mTypeError\u001b[0m: object of type 'NoneType' has no len()"
          ]
        }
      ]
    },
    {
      "cell_type": "code",
      "metadata": {
        "colab": {
          "base_uri": "https://localhost:8080/",
          "height": 210
        },
        "id": "mVJO7p27-SjI",
        "outputId": "3aabd37b-b7e3-4f95-a60f-f2065f5d7bae"
      },
      "source": [
        "if resultado.value.lower() == \"positivo\":\n",
        "  Losdatos.loc[len(Losdatos)]=[eltweet,1]\n",
        "  Losdatos.to_csv('TweetsValorados.csv')\n",
        "  print(\"Guardado positivo\")\n",
        "if resultado.value.lower() == \"negativo\":\n",
        "  Losdatos.loc[len(Losdatos)]=[eltweet,0]  \n",
        "  Losdatos.to_csv('TweetsValorados.csv')\n",
        "  print(\"Guardado negativo\")\n",
        "display(Losdatos)"
      ],
      "execution_count": 164,
      "outputs": [
        {
          "output_type": "stream",
          "text": [
            "Guardado negativo\n"
          ],
          "name": "stdout"
        },
        {
          "output_type": "display_data",
          "data": {
            "text/html": [
              "<div>\n",
              "<style scoped>\n",
              "    .dataframe tbody tr th:only-of-type {\n",
              "        vertical-align: middle;\n",
              "    }\n",
              "\n",
              "    .dataframe tbody tr th {\n",
              "        vertical-align: top;\n",
              "    }\n",
              "\n",
              "    .dataframe thead th {\n",
              "        text-align: right;\n",
              "    }\n",
              "</style>\n",
              "<table border=\"1\" class=\"dataframe\">\n",
              "  <thead>\n",
              "    <tr style=\"text-align: right;\">\n",
              "      <th></th>\n",
              "      <th>{KR} All iN on Rumble [Ch 868 LP], Kuri on Alistar [GM 662 LP], @RichHots on Kennen [Ch 1,083 LP], Liiv HuB on Sami… https://t.co/zL2Mzq5jVB</th>\n",
              "      <th>1</th>\n",
              "    </tr>\n",
              "  </thead>\n",
              "  <tbody>\n",
              "    <tr>\n",
              "      <th>0</th>\n",
              "      <td>nothing beats playing kennen and going 2 6 and...</td>\n",
              "      <td>1</td>\n",
              "    </tr>\n",
              "    <tr>\n",
              "      <th>1</th>\n",
              "      <td>@JesterX19 @TFT Both teemo and voli has been i...</td>\n",
              "      <td>0</td>\n",
              "    </tr>\n",
              "    <tr>\n",
              "      <th>2</th>\n",
              "      <td>@TheGOATRammus @TFT 1 cost rammus with built i...</td>\n",
              "      <td>1</td>\n",
              "    </tr>\n",
              "    <tr>\n",
              "      <th>3</th>\n",
              "      <td>@EliseStefanik @DonaldJTrumpJr @Harvard @harva...</td>\n",
              "      <td>0</td>\n",
              "    </tr>\n",
              "  </tbody>\n",
              "</table>\n",
              "</div>"
            ],
            "text/plain": [
              "  {KR} All iN on Rumble [Ch 868 LP], Kuri on Alistar [GM 662 LP], @RichHots on Kennen [Ch 1,083 LP], Liiv HuB on Sami… https://t.co/zL2Mzq5jVB  1\n",
              "0  nothing beats playing kennen and going 2 6 and...                                                                                            1\n",
              "1  @JesterX19 @TFT Both teemo and voli has been i...                                                                                            0\n",
              "2  @TheGOATRammus @TFT 1 cost rammus with built i...                                                                                            1\n",
              "3  @EliseStefanik @DonaldJTrumpJr @Harvard @harva...                                                                                            0"
            ]
          },
          "metadata": {
            "tags": []
          }
        }
      ]
    },
    {
      "cell_type": "code",
      "metadata": {
        "colab": {
          "base_uri": "https://localhost:8080/"
        },
        "id": "l3coPIqyNPcL",
        "outputId": "736002a8-f514-4e8c-bce6-d86eaab61f8e"
      },
      "source": [
        "# ENTRENAR RECOMENDADOR\n",
        "\n",
        "# Importar .csv\n",
        "import pandas as pd\n",
        "\n",
        "trainingData = pd.read_csv('TweetsValorados.csv', delimiter=',')\n",
        "trainingData = trainingData.head(1000)\n",
        "trainingData['valoracion'].value_counts()\n",
        "\n",
        "# Preprocesar datos de entrenamiento\n",
        "from nltk.tokenize import word_tokenize \n",
        "from nltk.corpus import stopwords\n",
        "from nltk.stem import PorterStemmer\n",
        "\n",
        "import nltk\n",
        "nltk.download('punkt')\n",
        "nltk.download('stopwords')\n",
        "\n",
        "ps = PorterStemmer()\n",
        "preprocessedText = []\n",
        "\n",
        "for row in trainingData.itertuples():\n",
        "    text = word_tokenize(row[2]) \n",
        "    stops = set(stopwords.words(\"english\"))\n",
        "    text = [ps.stem(w) for w in text if not w in stops and w.isalnum()]\n",
        "    text = \" \".join(text)\n",
        "    preprocessedText.append(text)\n",
        "\n",
        "preprocessedData = trainingData\n",
        "preprocessedData['processed_text'] = preprocessedText\n",
        "\n",
        "# crear bolsa de palabras\n",
        "from sklearn.feature_extraction.text import TfidfVectorizer\n",
        "\n",
        "bagOfWordsModel = TfidfVectorizer()\n",
        "bagOfWordsModel.fit(preprocessedData['processed_text'])\n",
        "textsBoW= bagOfWordsModel.transform(preprocessedData['processed_text'])\n",
        "\n",
        "# Entrenamiento algoritmo de clasificación\n",
        "from sklearn import svm\n",
        "svc = svm.SVC(kernel='linear') #Modelo de clasificación\n",
        "\n",
        "X_train = textsBoW #Documentos\n",
        "Y_train = trainingData['valoracion'] #Etiquetas de los documentos \n",
        "svc.fit(X_train, Y_train) #Entrenamiento\n",
        "\n",
        "# Carga y preprocesado de los documentos de test\n",
        "testData = pd.read_csv('TestingTweets.csv', delimiter=',')\n",
        "testData = testData.head(100)\n",
        "\n",
        "ps = PorterStemmer()\n",
        "preprocessedText = []\n",
        "\n",
        "for row in testData.itertuples():\n",
        "    text = word_tokenize(row[2]) \n",
        "    stops = set(stopwords.words(\"english\"))\n",
        "    text = [ps.stem(w) for w in text if not w in stops and w.isalnum()]\n",
        "    text = \" \".join(text)\n",
        "    \n",
        "    preprocessedText.append(text)\n",
        "\n",
        "preprocessedDataTest = testData\n",
        "preprocessedDataTest['processed_text'] = preprocessedText\n",
        "textsBoWTest= bagOfWordsModel.transform(preprocessedDataTest['processed_text'])\n",
        "\n",
        "# Clasificacion de los documentos de test\n",
        "X_test = textsBoWTest \n",
        "predictions = svc.predict(X_test)\n",
        "\n",
        "# Evaluación de la predicción\n",
        "from sklearn.metrics import classification_report\n",
        "\n",
        "Y_test = testData['valoracion']\n",
        "\n",
        "print(classification_report(Y_test, predictions))\n",
        "\n",
        "from sklearn.neighbors import KNeighborsClassifier\n",
        "neigh = KNeighborsClassifier(n_neighbors=3)\n",
        "\n",
        "neigh.fit(X_train, Y_train) \n",
        "predictions = neigh.predict(X_test) \n",
        "\n",
        "print(classification_report(Y_test, predictions))\n"
      ],
      "execution_count": 185,
      "outputs": [
        {
          "output_type": "stream",
          "text": [
            "[nltk_data] Downloading package punkt to /root/nltk_data...\n",
            "[nltk_data]   Package punkt is already up-to-date!\n",
            "[nltk_data] Downloading package stopwords to /root/nltk_data...\n",
            "[nltk_data]   Package stopwords is already up-to-date!\n"
          ],
          "name": "stdout"
        },
        {
          "output_type": "execute_result",
          "data": {
            "text/plain": [
              "pandas.core.series.Series"
            ]
          },
          "metadata": {
            "tags": []
          },
          "execution_count": 185
        }
      ]
    },
    {
      "cell_type": "code",
      "metadata": {
        "id": "3jhBJGSmSB2L"
      },
      "source": [
        "# Valorar texto sobre campeon\n",
        "# (Ejecutar celda de entrenamiento antes!)\n",
        "\n",
        "def valorar_sentimientos(texto):\n",
        "  #preprocesar texto\n",
        "  ps = PorterStemmer()\n",
        "  pre_proc = word_tokenize(texto)\n",
        "  pre_proc = \" \".join(pre_proc)\n",
        "  pre_proc = bagOfWordsModel.transform([pre_proc])\n",
        "\n",
        "  #valorar sentimientos texto (-1 = negativo, 0 = neutral, 1 = positivo)\n",
        "  return svc.predict(pre_proc)[0];\n",
        "\n",
        "#recorrer tuits y valorarlos\n",
        "positivos = 0\n",
        "negativos = 0\n",
        "for t in tuits:\n",
        "  p = valorar_sentimientos(t)\n",
        "  if (p == 1)\n",
        "    positivos = positivos + 1\n",
        "  if (p == -1)\n",
        "    negativos = negativos + 1\n",
        "\n",
        "print(negativos)\n",
        "print(positivos)"
      ],
      "execution_count": null,
      "outputs": []
    },
    {
      "cell_type": "markdown",
      "metadata": {
        "id": "DqleZtqeEf8B"
      },
      "source": [
        "# Streamlit + ngrok"
      ]
    },
    {
      "cell_type": "code",
      "metadata": {
        "colab": {
          "base_uri": "https://localhost:8080/",
          "height": 1000
        },
        "id": "N9ECw7qnEray",
        "outputId": "98c0c793-ac66-495b-d430-3f28639d5257"
      },
      "source": [
        "!pip install streamlit\r\n",
        "!pip install pyngrok\r\n",
        "# Es necesario hacer un restart del runtime [RESTART RUNTIME]"
      ],
      "execution_count": null,
      "outputs": [
        {
          "output_type": "stream",
          "text": [
            "Collecting streamlit\n",
            "\u001b[?25l  Downloading https://files.pythonhosted.org/packages/c0/04/348652bb02a0b8b5f93951c228558e2021af89faeef7dec2aae2c63efb11/streamlit-0.74.1-py2.py3-none-any.whl (7.5MB)\n",
            "\u001b[K     |████████████████████████████████| 7.5MB 6.9MB/s \n",
            "\u001b[?25hRequirement already satisfied: altair>=3.2.0 in /usr/local/lib/python3.6/dist-packages (from streamlit) (4.1.0)\n",
            "Requirement already satisfied: pillow>=6.2.0 in /usr/local/lib/python3.6/dist-packages (from streamlit) (7.0.0)\n",
            "Collecting watchdog; platform_system != \"Darwin\"\n",
            "\u001b[?25l  Downloading https://files.pythonhosted.org/packages/83/d9/3d1f46b428fd7b646725896b58d2eddb84f79fd76912773e6193cf74263d/watchdog-1.0.2-py3-none-manylinux2014_x86_64.whl (72kB)\n",
            "\u001b[K     |████████████████████████████████| 81kB 8.0MB/s \n",
            "\u001b[?25hRequirement already satisfied: requests in /usr/local/lib/python3.6/dist-packages (from streamlit) (2.23.0)\n",
            "Requirement already satisfied: pandas>=0.21.0 in /usr/local/lib/python3.6/dist-packages (from streamlit) (1.1.5)\n",
            "Requirement already satisfied: tzlocal in /usr/local/lib/python3.6/dist-packages (from streamlit) (1.5.1)\n",
            "Requirement already satisfied: cachetools>=4.0 in /usr/local/lib/python3.6/dist-packages (from streamlit) (4.2.0)\n",
            "Requirement already satisfied: protobuf!=3.11,>=3.6.0 in /usr/local/lib/python3.6/dist-packages (from streamlit) (3.12.4)\n",
            "Requirement already satisfied: click>=7.0 in /usr/local/lib/python3.6/dist-packages (from streamlit) (7.1.2)\n",
            "Requirement already satisfied: packaging in /usr/local/lib/python3.6/dist-packages (from streamlit) (20.8)\n",
            "Requirement already satisfied: tornado>=5.0 in /usr/local/lib/python3.6/dist-packages (from streamlit) (5.1.1)\n",
            "Collecting validators\n",
            "  Downloading https://files.pythonhosted.org/packages/db/2f/7fed3ee94ad665ad2c1de87f858f10a7785251ff75b4fd47987888d07ef1/validators-0.18.2-py3-none-any.whl\n",
            "Collecting base58\n",
            "  Downloading https://files.pythonhosted.org/packages/b8/a1/d9f565e9910c09fd325dc638765e8843a19fa696275c16cc08cf3b0a3c25/base58-2.1.0-py3-none-any.whl\n",
            "Requirement already satisfied: pyarrow; python_version < \"3.9\" in /usr/local/lib/python3.6/dist-packages (from streamlit) (0.14.1)\n",
            "Collecting pydeck>=0.1.dev5\n",
            "\u001b[?25l  Downloading https://files.pythonhosted.org/packages/9e/9d/8fbf1f56cc5891e6c3295bf94fc176e9ab0a3ffdd090cc8b354ac2640f9a/pydeck-0.5.0-py2.py3-none-any.whl (4.5MB)\n",
            "\u001b[K     |████████████████████████████████| 4.5MB 34.3MB/s \n",
            "\u001b[?25hRequirement already satisfied: astor in /usr/local/lib/python3.6/dist-packages (from streamlit) (0.8.1)\n",
            "Requirement already satisfied: toml in /usr/local/lib/python3.6/dist-packages (from streamlit) (0.10.2)\n",
            "Collecting gitpython\n",
            "\u001b[?25l  Downloading https://files.pythonhosted.org/packages/d7/cb/ec98155c501b68dcb11314c7992cd3df6dce193fd763084338a117967d53/GitPython-3.1.12-py3-none-any.whl (159kB)\n",
            "\u001b[K     |████████████████████████████████| 163kB 35.1MB/s \n",
            "\u001b[?25hRequirement already satisfied: numpy in /usr/local/lib/python3.6/dist-packages (from streamlit) (1.19.5)\n",
            "Requirement already satisfied: python-dateutil in /usr/local/lib/python3.6/dist-packages (from streamlit) (2.8.1)\n",
            "Collecting blinker\n",
            "\u001b[?25l  Downloading https://files.pythonhosted.org/packages/1b/51/e2a9f3b757eb802f61dc1f2b09c8c99f6eb01cf06416c0671253536517b6/blinker-1.4.tar.gz (111kB)\n",
            "\u001b[K     |████████████████████████████████| 112kB 39.7MB/s \n",
            "\u001b[?25hRequirement already satisfied: jsonschema in /usr/local/lib/python3.6/dist-packages (from altair>=3.2.0->streamlit) (2.6.0)\n",
            "Requirement already satisfied: jinja2 in /usr/local/lib/python3.6/dist-packages (from altair>=3.2.0->streamlit) (2.11.2)\n",
            "Requirement already satisfied: entrypoints in /usr/local/lib/python3.6/dist-packages (from altair>=3.2.0->streamlit) (0.3)\n",
            "Requirement already satisfied: toolz in /usr/local/lib/python3.6/dist-packages (from altair>=3.2.0->streamlit) (0.11.1)\n",
            "Requirement already satisfied: urllib3!=1.25.0,!=1.25.1,<1.26,>=1.21.1 in /usr/local/lib/python3.6/dist-packages (from requests->streamlit) (1.24.3)\n",
            "Requirement already satisfied: chardet<4,>=3.0.2 in /usr/local/lib/python3.6/dist-packages (from requests->streamlit) (3.0.4)\n",
            "Requirement already satisfied: certifi>=2017.4.17 in /usr/local/lib/python3.6/dist-packages (from requests->streamlit) (2020.12.5)\n",
            "Requirement already satisfied: idna<3,>=2.5 in /usr/local/lib/python3.6/dist-packages (from requests->streamlit) (2.10)\n",
            "Requirement already satisfied: pytz>=2017.2 in /usr/local/lib/python3.6/dist-packages (from pandas>=0.21.0->streamlit) (2018.9)\n",
            "Requirement already satisfied: setuptools in /usr/local/lib/python3.6/dist-packages (from protobuf!=3.11,>=3.6.0->streamlit) (51.1.1)\n",
            "Requirement already satisfied: six>=1.9 in /usr/local/lib/python3.6/dist-packages (from protobuf!=3.11,>=3.6.0->streamlit) (1.15.0)\n",
            "Requirement already satisfied: pyparsing>=2.0.2 in /usr/local/lib/python3.6/dist-packages (from packaging->streamlit) (2.4.7)\n",
            "Requirement already satisfied: decorator>=3.4.0 in /usr/local/lib/python3.6/dist-packages (from validators->streamlit) (4.4.2)\n",
            "Requirement already satisfied: traitlets>=4.3.2 in /usr/local/lib/python3.6/dist-packages (from pydeck>=0.1.dev5->streamlit) (4.3.3)\n",
            "Requirement already satisfied: ipywidgets>=7.0.0 in /usr/local/lib/python3.6/dist-packages (from pydeck>=0.1.dev5->streamlit) (7.6.3)\n",
            "Collecting ipykernel>=5.1.2; python_version >= \"3.4\"\n",
            "\u001b[?25l  Downloading https://files.pythonhosted.org/packages/7d/cc/e8908bbb2921732f6851ebbbe4b77b925aab62e644ab9402f21c84fa6107/ipykernel-5.4.3-py3-none-any.whl (120kB)\n",
            "\u001b[K     |████████████████████████████████| 122kB 39.2MB/s \n",
            "\u001b[?25hCollecting gitdb<5,>=4.0.1\n",
            "\u001b[?25l  Downloading https://files.pythonhosted.org/packages/48/11/d1800bca0a3bae820b84b7d813ad1eff15a48a64caea9c823fc8c1b119e8/gitdb-4.0.5-py3-none-any.whl (63kB)\n",
            "\u001b[K     |████████████████████████████████| 71kB 8.3MB/s \n",
            "\u001b[?25hRequirement already satisfied: MarkupSafe>=0.23 in /usr/local/lib/python3.6/dist-packages (from jinja2->altair>=3.2.0->streamlit) (1.1.1)\n",
            "Requirement already satisfied: ipython-genutils in /usr/local/lib/python3.6/dist-packages (from traitlets>=4.3.2->pydeck>=0.1.dev5->streamlit) (0.2.0)\n",
            "Requirement already satisfied: widgetsnbextension~=3.5.0 in /usr/local/lib/python3.6/dist-packages (from ipywidgets>=7.0.0->pydeck>=0.1.dev5->streamlit) (3.5.1)\n",
            "Requirement already satisfied: jupyterlab-widgets>=1.0.0; python_version >= \"3.6\" in /usr/local/lib/python3.6/dist-packages (from ipywidgets>=7.0.0->pydeck>=0.1.dev5->streamlit) (1.0.0)\n",
            "Requirement already satisfied: ipython>=4.0.0; python_version >= \"3.3\" in /usr/local/lib/python3.6/dist-packages (from ipywidgets>=7.0.0->pydeck>=0.1.dev5->streamlit) (5.5.0)\n",
            "Requirement already satisfied: nbformat>=4.2.0 in /usr/local/lib/python3.6/dist-packages (from ipywidgets>=7.0.0->pydeck>=0.1.dev5->streamlit) (5.0.8)\n",
            "Requirement already satisfied: jupyter-client in /usr/local/lib/python3.6/dist-packages (from ipykernel>=5.1.2; python_version >= \"3.4\"->pydeck>=0.1.dev5->streamlit) (5.3.5)\n",
            "Collecting smmap<4,>=3.0.1\n",
            "  Downloading https://files.pythonhosted.org/packages/b0/9a/4d409a6234eb940e6a78dfdfc66156e7522262f5f2fecca07dc55915952d/smmap-3.0.4-py2.py3-none-any.whl\n",
            "Requirement already satisfied: notebook>=4.4.1 in /usr/local/lib/python3.6/dist-packages (from widgetsnbextension~=3.5.0->ipywidgets>=7.0.0->pydeck>=0.1.dev5->streamlit) (5.3.1)\n",
            "Requirement already satisfied: pygments in /usr/local/lib/python3.6/dist-packages (from ipython>=4.0.0; python_version >= \"3.3\"->ipywidgets>=7.0.0->pydeck>=0.1.dev5->streamlit) (2.6.1)\n",
            "Requirement already satisfied: pickleshare in /usr/local/lib/python3.6/dist-packages (from ipython>=4.0.0; python_version >= \"3.3\"->ipywidgets>=7.0.0->pydeck>=0.1.dev5->streamlit) (0.7.5)\n",
            "Requirement already satisfied: pexpect; sys_platform != \"win32\" in /usr/local/lib/python3.6/dist-packages (from ipython>=4.0.0; python_version >= \"3.3\"->ipywidgets>=7.0.0->pydeck>=0.1.dev5->streamlit) (4.8.0)\n",
            "Requirement already satisfied: simplegeneric>0.8 in /usr/local/lib/python3.6/dist-packages (from ipython>=4.0.0; python_version >= \"3.3\"->ipywidgets>=7.0.0->pydeck>=0.1.dev5->streamlit) (0.8.1)\n",
            "Requirement already satisfied: prompt-toolkit<2.0.0,>=1.0.4 in /usr/local/lib/python3.6/dist-packages (from ipython>=4.0.0; python_version >= \"3.3\"->ipywidgets>=7.0.0->pydeck>=0.1.dev5->streamlit) (1.0.18)\n",
            "Requirement already satisfied: jupyter-core in /usr/local/lib/python3.6/dist-packages (from nbformat>=4.2.0->ipywidgets>=7.0.0->pydeck>=0.1.dev5->streamlit) (4.7.0)\n",
            "Requirement already satisfied: pyzmq>=13 in /usr/local/lib/python3.6/dist-packages (from jupyter-client->ipykernel>=5.1.2; python_version >= \"3.4\"->pydeck>=0.1.dev5->streamlit) (20.0.0)\n",
            "Requirement already satisfied: nbconvert in /usr/local/lib/python3.6/dist-packages (from notebook>=4.4.1->widgetsnbextension~=3.5.0->ipywidgets>=7.0.0->pydeck>=0.1.dev5->streamlit) (5.6.1)\n",
            "Requirement already satisfied: Send2Trash in /usr/local/lib/python3.6/dist-packages (from notebook>=4.4.1->widgetsnbextension~=3.5.0->ipywidgets>=7.0.0->pydeck>=0.1.dev5->streamlit) (1.5.0)\n",
            "Requirement already satisfied: terminado>=0.8.1 in /usr/local/lib/python3.6/dist-packages (from notebook>=4.4.1->widgetsnbextension~=3.5.0->ipywidgets>=7.0.0->pydeck>=0.1.dev5->streamlit) (0.9.2)\n",
            "Requirement already satisfied: ptyprocess>=0.5 in /usr/local/lib/python3.6/dist-packages (from pexpect; sys_platform != \"win32\"->ipython>=4.0.0; python_version >= \"3.3\"->ipywidgets>=7.0.0->pydeck>=0.1.dev5->streamlit) (0.7.0)\n",
            "Requirement already satisfied: wcwidth in /usr/local/lib/python3.6/dist-packages (from prompt-toolkit<2.0.0,>=1.0.4->ipython>=4.0.0; python_version >= \"3.3\"->ipywidgets>=7.0.0->pydeck>=0.1.dev5->streamlit) (0.2.5)\n",
            "Requirement already satisfied: defusedxml in /usr/local/lib/python3.6/dist-packages (from nbconvert->notebook>=4.4.1->widgetsnbextension~=3.5.0->ipywidgets>=7.0.0->pydeck>=0.1.dev5->streamlit) (0.6.0)\n",
            "Requirement already satisfied: pandocfilters>=1.4.1 in /usr/local/lib/python3.6/dist-packages (from nbconvert->notebook>=4.4.1->widgetsnbextension~=3.5.0->ipywidgets>=7.0.0->pydeck>=0.1.dev5->streamlit) (1.4.3)\n",
            "Requirement already satisfied: mistune<2,>=0.8.1 in /usr/local/lib/python3.6/dist-packages (from nbconvert->notebook>=4.4.1->widgetsnbextension~=3.5.0->ipywidgets>=7.0.0->pydeck>=0.1.dev5->streamlit) (0.8.4)\n",
            "Requirement already satisfied: testpath in /usr/local/lib/python3.6/dist-packages (from nbconvert->notebook>=4.4.1->widgetsnbextension~=3.5.0->ipywidgets>=7.0.0->pydeck>=0.1.dev5->streamlit) (0.4.4)\n",
            "Requirement already satisfied: bleach in /usr/local/lib/python3.6/dist-packages (from nbconvert->notebook>=4.4.1->widgetsnbextension~=3.5.0->ipywidgets>=7.0.0->pydeck>=0.1.dev5->streamlit) (3.2.1)\n",
            "Requirement already satisfied: webencodings in /usr/local/lib/python3.6/dist-packages (from bleach->nbconvert->notebook>=4.4.1->widgetsnbextension~=3.5.0->ipywidgets>=7.0.0->pydeck>=0.1.dev5->streamlit) (0.5.1)\n",
            "Building wheels for collected packages: blinker\n",
            "  Building wheel for blinker (setup.py) ... \u001b[?25l\u001b[?25hdone\n",
            "  Created wheel for blinker: filename=blinker-1.4-cp36-none-any.whl size=13450 sha256=06644ff56e02f62978b69b63a3b57c411b35a4f5ad1fe255a4b1a3ca09096e77\n",
            "  Stored in directory: /root/.cache/pip/wheels/92/a0/00/8690a57883956a301d91cf4ec999cc0b258b01e3f548f86e89\n",
            "Successfully built blinker\n",
            "\u001b[31mERROR: google-colab 1.0.0 has requirement ipykernel~=4.10, but you'll have ipykernel 5.4.3 which is incompatible.\u001b[0m\n",
            "Installing collected packages: watchdog, validators, base58, ipykernel, pydeck, smmap, gitdb, gitpython, blinker, streamlit\n",
            "  Found existing installation: ipykernel 4.10.1\n",
            "    Uninstalling ipykernel-4.10.1:\n",
            "      Successfully uninstalled ipykernel-4.10.1\n",
            "Successfully installed base58-2.1.0 blinker-1.4 gitdb-4.0.5 gitpython-3.1.12 ipykernel-5.4.3 pydeck-0.5.0 smmap-3.0.4 streamlit-0.74.1 validators-0.18.2 watchdog-1.0.2\n"
          ],
          "name": "stdout"
        },
        {
          "output_type": "display_data",
          "data": {
            "application/vnd.colab-display-data+json": {
              "pip_warning": {
                "packages": [
                  "ipykernel"
                ]
              }
            }
          },
          "metadata": {
            "tags": []
          }
        },
        {
          "output_type": "stream",
          "text": [
            "Collecting pyngrok\n",
            "  Downloading https://files.pythonhosted.org/packages/e2/19/af0fc6c11cc13f8a31e9dbec21af745337be8a40b5738cd30f08a483eac3/pyngrok-5.0.1.tar.gz\n",
            "Requirement already satisfied: PyYAML in /usr/local/lib/python3.6/dist-packages (from pyngrok) (3.13)\n",
            "Building wheels for collected packages: pyngrok\n",
            "  Building wheel for pyngrok (setup.py) ... \u001b[?25l\u001b[?25hdone\n",
            "  Created wheel for pyngrok: filename=pyngrok-5.0.1-cp36-none-any.whl size=18822 sha256=8e72d29e1d7e2d42f840278707f5baf82f01253e01dedbe4aa1aa3d017449a0f\n",
            "  Stored in directory: /root/.cache/pip/wheels/94/01/05/d39efb8f6b40a411354b4168ca9dda99e6f8d586e458e97551\n",
            "Successfully built pyngrok\n",
            "Installing collected packages: pyngrok\n",
            "Successfully installed pyngrok-5.0.1\n"
          ],
          "name": "stdout"
        }
      ]
    },
    {
      "cell_type": "code",
      "metadata": {
        "id": "xgPANQBCFq7N",
        "colab": {
          "base_uri": "https://localhost:8080/"
        },
        "outputId": "3eb76b67-0451-4cf3-a4e9-6ceff2398501"
      },
      "source": [
        "%%writefile app.py\r\n",
        "import streamlit as st\r\n",
        "PAGE_CONFIG = {\"page_title\":\"ABPerros\",\"page_icon\":\":smiley:\",\"layout\":\"centered\"}\r\n",
        "st.set_page_config(**PAGE_CONFIG)\r\n",
        "\r\n",
        "\r\n",
        "def main():\r\n",
        "\tst.title(\"Awesome Streamlit for ML\")\r\n",
        "\tst.subheader(\"How to run streamlit from colab\")\r\n",
        "\r\n",
        "  st.write(\"Here's our first attempt at using data to create a table:\")\r\n",
        "  st.write(pd.DataFrame({\r\n",
        "      'first column': [1, 2, 3, 4],\r\n",
        "      'second column': [10, 20, 30, 40]\r\n",
        "  }))\r\n",
        "\r\n",
        "\tmenu = [\"Home\",\"About\"]\r\n",
        "\tchoice = st.sidebar.selectbox('Menu',menu)\r\n",
        "\tif choice == 'Home':\r\n",
        "\t\tst.subheader(\"Streamlit From Colab\")\t\r\n",
        "\r\n",
        "\r\n",
        "\r\n",
        "if __name__ == '__main__':\r\n",
        "\tmain()"
      ],
      "execution_count": null,
      "outputs": [
        {
          "output_type": "stream",
          "text": [
            "Overwriting app.py\n"
          ],
          "name": "stdout"
        }
      ]
    },
    {
      "cell_type": "code",
      "metadata": {
        "id": "KW9GGYzYG05e"
      },
      "source": [
        "!streamlit run app.py&>/dev/null& "
      ],
      "execution_count": null,
      "outputs": []
    },
    {
      "cell_type": "code",
      "metadata": {
        "id": "DqBCjF2FHihN",
        "colab": {
          "base_uri": "https://localhost:8080/"
        },
        "outputId": "0e2f9a83-c5b9-4ad3-988d-2738a7447653"
      },
      "source": [
        "# Setup a tunnel to the streamlit port 8501\r\n",
        "from pyngrok import ngrok\r\n",
        "public_url = ngrok.connect('8501')\r\n",
        "public_url"
      ],
      "execution_count": null,
      "outputs": [
        {
          "output_type": "execute_result",
          "data": {
            "text/plain": [
              "<NgrokTunnel: \"http://0b0b13e58037.ngrok.io\" -> \"http://localhost:8501\">"
            ]
          },
          "metadata": {
            "tags": []
          },
          "execution_count": 7
        }
      ]
    },
    {
      "cell_type": "code",
      "metadata": {
        "id": "ItXIiSldnCHF"
      },
      "source": [
        "!pgrep streamlit"
      ],
      "execution_count": null,
      "outputs": []
    },
    {
      "cell_type": "code",
      "metadata": {
        "id": "plOip91Tom6r"
      },
      "source": [
        "!ps -eaf | grep streamlit"
      ],
      "execution_count": null,
      "outputs": []
    },
    {
      "cell_type": "code",
      "metadata": {
        "id": "RtqRMoNuNe3Y"
      },
      "source": [
        "#Shutdown\r\n",
        "!kill 373"
      ],
      "execution_count": null,
      "outputs": []
    },
    {
      "cell_type": "code",
      "metadata": {
        "id": "uhBoQEOuOE_t"
      },
      "source": [
        "ngrok.kill()"
      ],
      "execution_count": null,
      "outputs": []
    },
    {
      "cell_type": "markdown",
      "metadata": {
        "id": "eYPsMIXxJDhT"
      },
      "source": [
        "# FIN"
      ]
    },
    {
      "cell_type": "code",
      "metadata": {
        "colab": {
          "base_uri": "https://localhost:8080/"
        },
        "id": "3iLPX6wXMU8H",
        "outputId": "0e4b0e77-a08a-4525-b78a-41b02ce11770"
      },
      "source": [
        "from google.colab import drive\n",
        "drive.mount('/content/drive')"
      ],
      "execution_count": null,
      "outputs": [
        {
          "output_type": "stream",
          "text": [
            "Mounted at /content/drive\n"
          ],
          "name": "stdout"
        }
      ]
    },
    {
      "cell_type": "code",
      "metadata": {
        "id": "1FnY68c4PD5a"
      },
      "source": [
        "!wget -nc https://raw.githubusercontent.com/brpy/colab-pdf/master/colab_pdf.py\n",
        "from colab_pdf import colab_pdf\n",
        "colab_pdf('PandasMyNewLegend.ipynb')"
      ],
      "execution_count": null,
      "outputs": []
    }
  ]
}