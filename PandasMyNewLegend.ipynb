{
  "nbformat": 4,
  "nbformat_minor": 0,
  "metadata": {
    "colab": {
      "name": "PandasMyNewLegend.ipynb",
      "provenance": [],
      "collapsed_sections": []
    },
    "kernelspec": {
      "name": "python3",
      "display_name": "Python 3"
    }
  },
  "cells": [
    {
      "cell_type": "markdown",
      "metadata": {
        "id": "PLYinPTuRVaO"
      },
      "source": [
        "# Notebook para manejo de dataframes y generado de informacion a partir de la API de League of Legends.\n",
        "\n",
        "https://developer.riotgames.com/docs/lol\n",
        "\n",
        "Autores:  \n",
        "* Rubén Fernández González (rfgonzalez13@esei.uvigo.es)\n",
        "* Iván Montes Blanco (imblanco17@esei.uvigo.es)\n",
        "* Jacobo Cortegoso Budiño (jcbudino17@esei.uvigo.es)\n",
        "* Rubén Tejo Pereira (rtpereira18@esei.uvigo.es)\n",
        "\n",
        "\n",
        "\n",
        "\n"
      ]
    },
    {
      "cell_type": "markdown",
      "metadata": {
        "id": "9VNuHbVuR8aW"
      },
      "source": [
        "El objetivo es generar un Pandas dataframe o varios a partir de los J_SON de la api del LOL. Siendo los dataframes mas importantes lo de los campeones y los de las skills"
      ]
    },
    {
      "cell_type": "markdown",
      "metadata": {
        "id": "jpdMP7qSSJWj"
      },
      "source": [
        "El resultado final ideal para nuestro recomendador seria un dataframe con Campeones(nombre) como filas y las siguientes columnas: Rol, Lore, Q, W, E, R, Pasiva."
      ]
    },
    {
      "cell_type": "markdown",
      "metadata": {
        "id": "RLuPwcV6QvFG"
      },
      "source": [
        "Importamos las librerias de pandas y json.\n",
        "Necesitamos obtener el nombre de **todos** los campeones automáticamente, por eso usamos Data Dragon, la API de League of Legends, donde tenemos un objeto J_SON con todos los campeones que usaremos como índice para después."
      ]
    },
    {
      "cell_type": "code",
      "metadata": {
        "id": "w2cGcqKgRWl9",
        "outputId": "f416adc0-de95-4750-f61f-7d06166aee37",
        "colab": {
          "base_uri": "https://localhost:8080/",
          "height": 206
        }
      },
      "source": [
        "import pandas as pd\n",
        "import json\n",
        "\n",
        "df = pd.read_json('http://ddragon.leagueoflegends.com/cdn/10.22.1/data/en_US/champion.json')\n",
        "df.head()"
      ],
      "execution_count": 117,
      "outputs": [
        {
          "output_type": "execute_result",
          "data": {
            "text/html": [
              "<div>\n",
              "<style scoped>\n",
              "    .dataframe tbody tr th:only-of-type {\n",
              "        vertical-align: middle;\n",
              "    }\n",
              "\n",
              "    .dataframe tbody tr th {\n",
              "        vertical-align: top;\n",
              "    }\n",
              "\n",
              "    .dataframe thead th {\n",
              "        text-align: right;\n",
              "    }\n",
              "</style>\n",
              "<table border=\"1\" class=\"dataframe\">\n",
              "  <thead>\n",
              "    <tr style=\"text-align: right;\">\n",
              "      <th></th>\n",
              "      <th>type</th>\n",
              "      <th>format</th>\n",
              "      <th>version</th>\n",
              "      <th>data</th>\n",
              "    </tr>\n",
              "  </thead>\n",
              "  <tbody>\n",
              "    <tr>\n",
              "      <th>Aatrox</th>\n",
              "      <td>champion</td>\n",
              "      <td>standAloneComplex</td>\n",
              "      <td>10.22.1</td>\n",
              "      <td>{'version': '10.22.1', 'id': 'Aatrox', 'key': ...</td>\n",
              "    </tr>\n",
              "    <tr>\n",
              "      <th>Ahri</th>\n",
              "      <td>champion</td>\n",
              "      <td>standAloneComplex</td>\n",
              "      <td>10.22.1</td>\n",
              "      <td>{'version': '10.22.1', 'id': 'Ahri', 'key': '1...</td>\n",
              "    </tr>\n",
              "    <tr>\n",
              "      <th>Akali</th>\n",
              "      <td>champion</td>\n",
              "      <td>standAloneComplex</td>\n",
              "      <td>10.22.1</td>\n",
              "      <td>{'version': '10.22.1', 'id': 'Akali', 'key': '...</td>\n",
              "    </tr>\n",
              "    <tr>\n",
              "      <th>Alistar</th>\n",
              "      <td>champion</td>\n",
              "      <td>standAloneComplex</td>\n",
              "      <td>10.22.1</td>\n",
              "      <td>{'version': '10.22.1', 'id': 'Alistar', 'key':...</td>\n",
              "    </tr>\n",
              "    <tr>\n",
              "      <th>Amumu</th>\n",
              "      <td>champion</td>\n",
              "      <td>standAloneComplex</td>\n",
              "      <td>10.22.1</td>\n",
              "      <td>{'version': '10.22.1', 'id': 'Amumu', 'key': '...</td>\n",
              "    </tr>\n",
              "  </tbody>\n",
              "</table>\n",
              "</div>"
            ],
            "text/plain": [
              "             type  ...                                               data\n",
              "Aatrox   champion  ...  {'version': '10.22.1', 'id': 'Aatrox', 'key': ...\n",
              "Ahri     champion  ...  {'version': '10.22.1', 'id': 'Ahri', 'key': '1...\n",
              "Akali    champion  ...  {'version': '10.22.1', 'id': 'Akali', 'key': '...\n",
              "Alistar  champion  ...  {'version': '10.22.1', 'id': 'Alistar', 'key':...\n",
              "Amumu    champion  ...  {'version': '10.22.1', 'id': 'Amumu', 'key': '...\n",
              "\n",
              "[5 rows x 4 columns]"
            ]
          },
          "metadata": {
            "tags": []
          },
          "execution_count": 117
        }
      ]
    },
    {
      "cell_type": "markdown",
      "metadata": {
        "id": "yQY2V6m1RaVN"
      },
      "source": [
        "Vemos que este DataFrame *df* contiene en su campo data el id de todos los campeones. Lo que hacemos ahora es iterar sobre el id para descargar de la API cada J_SON asociado a cada campeón y concatenarlo en un solo DataFrame.\n",
        "\n",
        "El J_SON de cada campeón (como ejemplo mostramos a Yasuo) en Data Dragon tiene esta estructura:\n"
      ]
    },
    {
      "cell_type": "code",
      "metadata": {
        "id": "0WeV1-8kSHer",
        "outputId": "44856b78-67da-4e22-8022-30ce728abb5f",
        "colab": {
          "base_uri": "https://localhost:8080/",
          "height": 222
        }
      },
      "source": [
        "EjemploCampeon = pd.read_json('http://ddragon.leagueoflegends.com/cdn/10.22.1/data/en_US/champion/Yasuo.json') \n",
        "EjemploCampeon = pd.read_json((EjemploCampeon['data']).to_json(), orient='index')\n",
        "display(EjemploCampeon)"
      ],
      "execution_count": 118,
      "outputs": [
        {
          "output_type": "display_data",
          "data": {
            "text/html": [
              "<div>\n",
              "<style scoped>\n",
              "    .dataframe tbody tr th:only-of-type {\n",
              "        vertical-align: middle;\n",
              "    }\n",
              "\n",
              "    .dataframe tbody tr th {\n",
              "        vertical-align: top;\n",
              "    }\n",
              "\n",
              "    .dataframe thead th {\n",
              "        text-align: right;\n",
              "    }\n",
              "</style>\n",
              "<table border=\"1\" class=\"dataframe\">\n",
              "  <thead>\n",
              "    <tr style=\"text-align: right;\">\n",
              "      <th></th>\n",
              "      <th>id</th>\n",
              "      <th>key</th>\n",
              "      <th>name</th>\n",
              "      <th>title</th>\n",
              "      <th>image</th>\n",
              "      <th>skins</th>\n",
              "      <th>lore</th>\n",
              "      <th>blurb</th>\n",
              "      <th>allytips</th>\n",
              "      <th>enemytips</th>\n",
              "      <th>tags</th>\n",
              "      <th>partype</th>\n",
              "      <th>info</th>\n",
              "      <th>stats</th>\n",
              "      <th>spells</th>\n",
              "      <th>passive</th>\n",
              "      <th>recommended</th>\n",
              "    </tr>\n",
              "  </thead>\n",
              "  <tbody>\n",
              "    <tr>\n",
              "      <th>Yasuo</th>\n",
              "      <td>Yasuo</td>\n",
              "      <td>157</td>\n",
              "      <td>Yasuo</td>\n",
              "      <td>the Unforgiven</td>\n",
              "      <td>{'full': 'Yasuo.png', 'sprite': 'champion4.png...</td>\n",
              "      <td>[{'id': '157000', 'num': 0, 'name': 'default',...</td>\n",
              "      <td>An Ionian of deep resolve, Yasuo is an agile s...</td>\n",
              "      <td>An Ionian of deep resolve, Yasuo is an agile s...</td>\n",
              "      <td>[Dash through a minion to have Sweeping Blade ...</td>\n",
              "      <td>[Steel Tempest is very narrow. Dodge laterally...</td>\n",
              "      <td>[Fighter, Assassin]</td>\n",
              "      <td>Flow</td>\n",
              "      <td>{'attack': 8, 'defense': 4, 'magic': 4, 'diffi...</td>\n",
              "      <td>{'hp': 490, 'hpperlevel': 87, 'mp': 100, 'mppe...</td>\n",
              "      <td>[{'id': 'YasuoQ1Wrapper', 'name': 'Steel Tempe...</td>\n",
              "      <td>{'name': 'Way of the Wanderer', 'description':...</td>\n",
              "      <td>[{'champion': 'Yasuo', 'title': 'Beginner', 'm...</td>\n",
              "    </tr>\n",
              "  </tbody>\n",
              "</table>\n",
              "</div>"
            ],
            "text/plain": [
              "          id  ...                                        recommended\n",
              "Yasuo  Yasuo  ...  [{'champion': 'Yasuo', 'title': 'Beginner', 'm...\n",
              "\n",
              "[1 rows x 17 columns]"
            ]
          },
          "metadata": {
            "tags": []
          }
        }
      ]
    },
    {
      "cell_type": "markdown",
      "metadata": {
        "id": "gRK725gtXJFL"
      },
      "source": [
        "Vemos que tenemos campos muy interesantes (y muchos otros despreciables) ya accesibles como el nombre y el lore. Sin embargo las descripciones de las skills o la pasiva estan dos niveles más abajo dentro del campo spell.\n",
        "\n",
        "Bajamos esos niveles:"
      ]
    },
    {
      "cell_type": "code",
      "metadata": {
        "id": "ywZMrB6YZH7R",
        "outputId": "b7ed22ec-785b-4ae1-ef08-c05c34aafb09",
        "colab": {
          "base_uri": "https://localhost:8080/",
          "height": 98
        }
      },
      "source": [
        "  s = EjemploCampeon['spells'][0]\n",
        "  spellsData = [[s[0]['description'], s[1]['description'], s[2]['description'],s[3]['description'],EjemploCampeon['passive'][0]['description']]]\n",
        "  EjemploHabilidades = pd.DataFrame(spellsData, columns = ['Q' , 'W' , 'E', 'R', 'Passive'], index = ['Yasuo'])\n",
        "  display(EjemploHabilidades)"
      ],
      "execution_count": 119,
      "outputs": [
        {
          "output_type": "display_data",
          "data": {
            "text/html": [
              "<div>\n",
              "<style scoped>\n",
              "    .dataframe tbody tr th:only-of-type {\n",
              "        vertical-align: middle;\n",
              "    }\n",
              "\n",
              "    .dataframe tbody tr th {\n",
              "        vertical-align: top;\n",
              "    }\n",
              "\n",
              "    .dataframe thead th {\n",
              "        text-align: right;\n",
              "    }\n",
              "</style>\n",
              "<table border=\"1\" class=\"dataframe\">\n",
              "  <thead>\n",
              "    <tr style=\"text-align: right;\">\n",
              "      <th></th>\n",
              "      <th>Q</th>\n",
              "      <th>W</th>\n",
              "      <th>E</th>\n",
              "      <th>R</th>\n",
              "      <th>Passive</th>\n",
              "    </tr>\n",
              "  </thead>\n",
              "  <tbody>\n",
              "    <tr>\n",
              "      <th>Yasuo</th>\n",
              "      <td>Thrusts forward, damaging all enemies in a lin...</td>\n",
              "      <td>Creates a moving wall that blocks all enemy pr...</td>\n",
              "      <td>Dashes through target enemy, dealing magic dam...</td>\n",
              "      <td>Blinks to an &lt;factionIonia1&gt;Airborne&lt;/factionI...</td>\n",
              "      <td>Yasuo's Critical Strike Chance is doubled. Add...</td>\n",
              "    </tr>\n",
              "  </tbody>\n",
              "</table>\n",
              "</div>"
            ],
            "text/plain": [
              "                                                       Q  ...                                            Passive\n",
              "Yasuo  Thrusts forward, damaging all enemies in a lin...  ...  Yasuo's Critical Strike Chance is doubled. Add...\n",
              "\n",
              "[1 rows x 5 columns]"
            ]
          },
          "metadata": {
            "tags": []
          }
        }
      ]
    },
    {
      "cell_type": "markdown",
      "metadata": {
        "id": "F2kTwjoFfpg5"
      },
      "source": [
        "Concatenando el resultado de cada campeón y juntando los dataframes obtendremos el DataFrame *champInfo*. \n",
        "\n",
        "Sin embargo para el frontend de nuestra aplicacion necesitamos otros datos. Aprovechando la iteración sobre todos los campeones vamos a sacar un dataframe mas. Este dataframe contendrá el nombre de los campeones, el nombre de sus habilidades (Q,W,E,R, Passive) y la imagen de las mismas (Qimg, Wimg, Wimg, Eimg, Rimg, Passiveimg). Vamos a detallar el proceso con el Ejemplo de Yasuo:\n",
        "<img src=http://ddragon.leagueoflegends.com/cdn/img/champion/splash/Yasuo_0.jpg>"
      ]
    },
    {
      "cell_type": "code",
      "metadata": {
        "id": "G2s4_COGiSgz",
        "outputId": "64ca2839-8ed3-49ef-88c2-cd4c764f95f9",
        "colab": {
          "base_uri": "https://localhost:8080/",
          "height": 81
        }
      },
      "source": [
        "spellsD = [[s[0]['name'], s[1]['name'], s[2]['name'],s[3]['name'], s[0]['id'], s[1]['id'], s[2]['id'], s[3]['id'], EjemploCampeon['passive'][0]['name'], EjemploCampeon['passive'][0]['image']['full']]]\n",
        "EjemplofrontSpells = pd.DataFrame(spellsD, columns = ['Q' , 'W' , 'E', 'R', 'Qimg', 'Wimg', 'Eimg', 'Rimg', 'Passive', 'Passiveimg'], index = ['Yasuo'])\n",
        "EjemplofrontSpells = pd.concat([EjemploCampeon['name'], EjemploCampeon['id'], EjemplofrontSpells], axis=1)\n",
        "display(EjemplofrontSpells)"
      ],
      "execution_count": 120,
      "outputs": [
        {
          "output_type": "display_data",
          "data": {
            "text/html": [
              "<div>\n",
              "<style scoped>\n",
              "    .dataframe tbody tr th:only-of-type {\n",
              "        vertical-align: middle;\n",
              "    }\n",
              "\n",
              "    .dataframe tbody tr th {\n",
              "        vertical-align: top;\n",
              "    }\n",
              "\n",
              "    .dataframe thead th {\n",
              "        text-align: right;\n",
              "    }\n",
              "</style>\n",
              "<table border=\"1\" class=\"dataframe\">\n",
              "  <thead>\n",
              "    <tr style=\"text-align: right;\">\n",
              "      <th></th>\n",
              "      <th>name</th>\n",
              "      <th>id</th>\n",
              "      <th>Q</th>\n",
              "      <th>W</th>\n",
              "      <th>E</th>\n",
              "      <th>R</th>\n",
              "      <th>Qimg</th>\n",
              "      <th>Wimg</th>\n",
              "      <th>Eimg</th>\n",
              "      <th>Rimg</th>\n",
              "      <th>Passive</th>\n",
              "      <th>Passiveimg</th>\n",
              "    </tr>\n",
              "  </thead>\n",
              "  <tbody>\n",
              "    <tr>\n",
              "      <th>Yasuo</th>\n",
              "      <td>Yasuo</td>\n",
              "      <td>Yasuo</td>\n",
              "      <td>Steel Tempest</td>\n",
              "      <td>Wind Wall</td>\n",
              "      <td>Sweeping Blade</td>\n",
              "      <td>Last Breath</td>\n",
              "      <td>YasuoQ1Wrapper</td>\n",
              "      <td>YasuoW</td>\n",
              "      <td>YasuoE</td>\n",
              "      <td>YasuoR</td>\n",
              "      <td>Way of the Wanderer</td>\n",
              "      <td>Yasuo_Passive.png</td>\n",
              "    </tr>\n",
              "  </tbody>\n",
              "</table>\n",
              "</div>"
            ],
            "text/plain": [
              "        name     id  ...              Passive         Passiveimg\n",
              "Yasuo  Yasuo  Yasuo  ...  Way of the Wanderer  Yasuo_Passive.png\n",
              "\n",
              "[1 rows x 12 columns]"
            ]
          },
          "metadata": {
            "tags": []
          }
        }
      ]
    },
    {
      "cell_type": "markdown",
      "metadata": {
        "id": "KZab81kc42wT"
      },
      "source": [
        "Ahora tenemos un DataFrame *EjemplofrontSpells* que contiene lo necesario para el frontend para mostrar a Yasuo en nuestra apicación web. Solo añadimos esto en un bucle para completarlo con todos los campeones. \n",
        "\n",
        "Las imágenes de los campeones funcionan con las siguientes rutas según su **id**:\n",
        "\n",
        "(En ese caso el id = Yasuo)\n",
        "\n",
        "*   Imagen Splash: http://ddragon.leagueoflegends.com/cdn/img/champion/splash/Yasuo_0.jpg\n",
        "*   Imagen Loading: http://ddragon.leagueoflegends.com/cdn/img/champion/loading/Yasuo_0.jpg\n",
        "*   Imagen miniatura: http://ddragon.leagueoflegends.com/cdn/10.22.1/img/champion/Yasuo.png\n",
        "\n",
        "Las imagenes de las habilidades usan **Ximg** y la passiva **Passiveimg**\n",
        "\n",
        "*   http://ddragon.leagueoflegends.com/cdn/10.22.1/img/spell/YasuoQ1Wrapper.png\n",
        "*   http://ddragon.leagueoflegends.com/cdn/10.22.1/img/passive/Yasuo_Passive.png\n",
        "\n",
        "\n",
        "\n"
      ]
    },
    {
      "cell_type": "markdown",
      "metadata": {
        "id": "vpoBwUqT7lPL"
      },
      "source": [
        "Ahora solo queda generar los dos DataFrames completos con todos los campeones. Recordemos que teníamos el DataFrame *df* que básicamente contiene el 'id' de todos ellos. Iterando sobre el mismo podemos acceder a cada DataDragon de campeón y extraer la información que deseamos. El resultado debería ser *champInfo* para nuestro recomendador y *frontInfo* para el front end de nuestra aplicación."
      ]
    },
    {
      "cell_type": "code",
      "metadata": {
        "id": "X8ePTX1nW90U"
      },
      "source": [
        "champInfo = pd.DataFrame() \n",
        "frontInfo = pd.DataFrame()\n",
        "\n",
        "for i in df['data']:\n",
        "  #pasar json campeones a dataframe\n",
        "  leeJson = pd.read_json('http://ddragon.leagueoflegends.com/cdn/10.22.1/data/en_US/champion/'+i['id']+'.json')\n",
        "  datosChamp = pd.read_json((leeJson['data']).to_json(), orient='index')\n",
        "  \n",
        "  #pasar json spells y passive a dataframe\n",
        "  s = datosChamp['spells'][0]\n",
        "  \n",
        "  #champInfo\n",
        "  spellsData = [[s[0]['description'], s[1]['description'], s[2]['description'],s[3]['description'],datosChamp['passive'][0]['description']]]\n",
        "  spells = pd.DataFrame(spellsData, columns = ['Q', 'W' , 'E', 'R', 'Passive'], index = [i['id']])\n",
        "\n",
        "  #juntar dataframes y añadir a resultado\n",
        "  toappend = pd.concat([datosChamp, spells], axis=1)\n",
        "  champInfo = champInfo.append(toappend)\n",
        "\n",
        "  #frontInfo\n",
        "  spellsD = [[s[0]['name'], s[1]['name'], s[2]['name'],s[3]['name'], s[0]['id'], s[1]['id'], s[2]['id'], s[3]['id'], datosChamp['passive'][0]['name'], datosChamp['passive'][0]['image']['full']]]\n",
        "  front = pd.DataFrame(spellsD, columns = ['Q' , 'W' , 'E', 'R', 'Qimg', 'Wimg', 'Eimg', 'Rimg', 'Passive', 'Passiveimg'], index = [i['id']])\n",
        "  \n",
        "  front = pd.concat([datosChamp['name'], datosChamp['id'], front], axis=1)\n",
        "  frontInfo = frontInfo.append(front)\n",
        "#end of loop"
      ],
      "execution_count": 121,
      "outputs": []
    },
    {
      "cell_type": "code",
      "metadata": {
        "id": "hHUGZm90AExE",
        "outputId": "481e6e29-435a-4915-d16a-11597a3b219c",
        "colab": {
          "base_uri": "https://localhost:8080/",
          "height": 330
        }
      },
      "source": [
        "frontInfo.head()"
      ],
      "execution_count": 122,
      "outputs": [
        {
          "output_type": "execute_result",
          "data": {
            "text/html": [
              "<div>\n",
              "<style scoped>\n",
              "    .dataframe tbody tr th:only-of-type {\n",
              "        vertical-align: middle;\n",
              "    }\n",
              "\n",
              "    .dataframe tbody tr th {\n",
              "        vertical-align: top;\n",
              "    }\n",
              "\n",
              "    .dataframe thead th {\n",
              "        text-align: right;\n",
              "    }\n",
              "</style>\n",
              "<table border=\"1\" class=\"dataframe\">\n",
              "  <thead>\n",
              "    <tr style=\"text-align: right;\">\n",
              "      <th></th>\n",
              "      <th>name</th>\n",
              "      <th>id</th>\n",
              "      <th>Q</th>\n",
              "      <th>W</th>\n",
              "      <th>E</th>\n",
              "      <th>R</th>\n",
              "      <th>Qimg</th>\n",
              "      <th>Wimg</th>\n",
              "      <th>Eimg</th>\n",
              "      <th>Rimg</th>\n",
              "      <th>Passive</th>\n",
              "      <th>Passiveimg</th>\n",
              "    </tr>\n",
              "  </thead>\n",
              "  <tbody>\n",
              "    <tr>\n",
              "      <th>Aatrox</th>\n",
              "      <td>Aatrox</td>\n",
              "      <td>Aatrox</td>\n",
              "      <td>The Darkin Blade</td>\n",
              "      <td>Infernal Chains</td>\n",
              "      <td>Umbral Dash</td>\n",
              "      <td>World Ender</td>\n",
              "      <td>AatroxQ</td>\n",
              "      <td>AatroxW</td>\n",
              "      <td>AatroxE</td>\n",
              "      <td>AatroxR</td>\n",
              "      <td>Deathbringer Stance</td>\n",
              "      <td>Aatrox_Passive.png</td>\n",
              "    </tr>\n",
              "    <tr>\n",
              "      <th>Ahri</th>\n",
              "      <td>Ahri</td>\n",
              "      <td>Ahri</td>\n",
              "      <td>Orb of Deception</td>\n",
              "      <td>Fox-Fire</td>\n",
              "      <td>Charm</td>\n",
              "      <td>Spirit Rush</td>\n",
              "      <td>AhriOrbofDeception</td>\n",
              "      <td>AhriFoxFire</td>\n",
              "      <td>AhriSeduce</td>\n",
              "      <td>AhriTumble</td>\n",
              "      <td>Essence Theft</td>\n",
              "      <td>Ahri_SoulEater2.png</td>\n",
              "    </tr>\n",
              "    <tr>\n",
              "      <th>Akali</th>\n",
              "      <td>Akali</td>\n",
              "      <td>Akali</td>\n",
              "      <td>Five Point Strike</td>\n",
              "      <td>Twilight Shroud</td>\n",
              "      <td>Shuriken Flip</td>\n",
              "      <td>Perfect Execution</td>\n",
              "      <td>AkaliQ</td>\n",
              "      <td>AkaliW</td>\n",
              "      <td>AkaliE</td>\n",
              "      <td>AkaliR</td>\n",
              "      <td>Assassin's Mark</td>\n",
              "      <td>Akali_P.png</td>\n",
              "    </tr>\n",
              "    <tr>\n",
              "      <th>Alistar</th>\n",
              "      <td>Alistar</td>\n",
              "      <td>Alistar</td>\n",
              "      <td>Pulverize</td>\n",
              "      <td>Headbutt</td>\n",
              "      <td>Trample</td>\n",
              "      <td>Unbreakable Will</td>\n",
              "      <td>Pulverize</td>\n",
              "      <td>Headbutt</td>\n",
              "      <td>AlistarE</td>\n",
              "      <td>FerociousHowl</td>\n",
              "      <td>Triumphant Roar</td>\n",
              "      <td>Alistar_E.png</td>\n",
              "    </tr>\n",
              "    <tr>\n",
              "      <th>Amumu</th>\n",
              "      <td>Amumu</td>\n",
              "      <td>Amumu</td>\n",
              "      <td>Bandage Toss</td>\n",
              "      <td>Despair</td>\n",
              "      <td>Tantrum</td>\n",
              "      <td>Curse of the Sad Mummy</td>\n",
              "      <td>BandageToss</td>\n",
              "      <td>AuraofDespair</td>\n",
              "      <td>Tantrum</td>\n",
              "      <td>CurseoftheSadMummy</td>\n",
              "      <td>Cursed Touch</td>\n",
              "      <td>Amumu_Passive.png</td>\n",
              "    </tr>\n",
              "  </tbody>\n",
              "</table>\n",
              "</div>"
            ],
            "text/plain": [
              "            name       id  ...              Passive           Passiveimg\n",
              "Aatrox    Aatrox   Aatrox  ...  Deathbringer Stance   Aatrox_Passive.png\n",
              "Ahri        Ahri     Ahri  ...        Essence Theft  Ahri_SoulEater2.png\n",
              "Akali      Akali    Akali  ...      Assassin's Mark          Akali_P.png\n",
              "Alistar  Alistar  Alistar  ...      Triumphant Roar        Alistar_E.png\n",
              "Amumu      Amumu    Amumu  ...         Cursed Touch    Amumu_Passive.png\n",
              "\n",
              "[5 rows x 12 columns]"
            ]
          },
          "metadata": {
            "tags": []
          },
          "execution_count": 122
        }
      ]
    },
    {
      "cell_type": "code",
      "metadata": {
        "id": "tdj4J2YCAL0z",
        "outputId": "e9e81adf-2767-4b05-f9dd-1d5886a62d14",
        "colab": {
          "base_uri": "https://localhost:8080/",
          "height": 712
        }
      },
      "source": [
        "champInfo.head()"
      ],
      "execution_count": 123,
      "outputs": [
        {
          "output_type": "execute_result",
          "data": {
            "text/html": [
              "<div>\n",
              "<style scoped>\n",
              "    .dataframe tbody tr th:only-of-type {\n",
              "        vertical-align: middle;\n",
              "    }\n",
              "\n",
              "    .dataframe tbody tr th {\n",
              "        vertical-align: top;\n",
              "    }\n",
              "\n",
              "    .dataframe thead th {\n",
              "        text-align: right;\n",
              "    }\n",
              "</style>\n",
              "<table border=\"1\" class=\"dataframe\">\n",
              "  <thead>\n",
              "    <tr style=\"text-align: right;\">\n",
              "      <th></th>\n",
              "      <th>id</th>\n",
              "      <th>key</th>\n",
              "      <th>name</th>\n",
              "      <th>title</th>\n",
              "      <th>image</th>\n",
              "      <th>skins</th>\n",
              "      <th>lore</th>\n",
              "      <th>blurb</th>\n",
              "      <th>allytips</th>\n",
              "      <th>enemytips</th>\n",
              "      <th>tags</th>\n",
              "      <th>partype</th>\n",
              "      <th>info</th>\n",
              "      <th>stats</th>\n",
              "      <th>spells</th>\n",
              "      <th>passive</th>\n",
              "      <th>recommended</th>\n",
              "      <th>Q</th>\n",
              "      <th>W</th>\n",
              "      <th>E</th>\n",
              "      <th>R</th>\n",
              "      <th>Passive</th>\n",
              "    </tr>\n",
              "  </thead>\n",
              "  <tbody>\n",
              "    <tr>\n",
              "      <th>Aatrox</th>\n",
              "      <td>Aatrox</td>\n",
              "      <td>266</td>\n",
              "      <td>Aatrox</td>\n",
              "      <td>the Darkin Blade</td>\n",
              "      <td>{'full': 'Aatrox.png', 'sprite': 'champion0.pn...</td>\n",
              "      <td>[{'id': '266000', 'num': 0, 'name': 'default',...</td>\n",
              "      <td>Once honored defenders of Shurima against the ...</td>\n",
              "      <td>Once honored defenders of Shurima against the ...</td>\n",
              "      <td>[Use Umbral Dash while casting The Darkin Blad...</td>\n",
              "      <td>[Aatrox's attacks are very telegraphed, so use...</td>\n",
              "      <td>[Fighter, Tank]</td>\n",
              "      <td>Blood Well</td>\n",
              "      <td>{'attack': 8, 'defense': 4, 'magic': 3, 'diffi...</td>\n",
              "      <td>{'hp': 580, 'hpperlevel': 90, 'mp': 0, 'mpperl...</td>\n",
              "      <td>[{'id': 'AatroxQ', 'name': 'The Darkin Blade',...</td>\n",
              "      <td>{'name': 'Deathbringer Stance', 'description':...</td>\n",
              "      <td>[{'champion': 'Aatrox', 'title': 'AatroxARAM',...</td>\n",
              "      <td>Aatrox slams his greatsword down, dealing phys...</td>\n",
              "      <td>Aatrox smashes the ground, dealing damage to t...</td>\n",
              "      <td>Passively, Aatrox heals when damaging enemy ch...</td>\n",
              "      <td>Aatrox unleashes his demonic form, fearing nea...</td>\n",
              "      <td>Periodically, Aatrox's next basic attack deals...</td>\n",
              "    </tr>\n",
              "    <tr>\n",
              "      <th>Ahri</th>\n",
              "      <td>Ahri</td>\n",
              "      <td>103</td>\n",
              "      <td>Ahri</td>\n",
              "      <td>the Nine-Tailed Fox</td>\n",
              "      <td>{'full': 'Ahri.png', 'sprite': 'champion0.png'...</td>\n",
              "      <td>[{'id': '103000', 'num': 0, 'name': 'default',...</td>\n",
              "      <td>Innately connected to the latent power of Rune...</td>\n",
              "      <td>Innately connected to the latent power of Rune...</td>\n",
              "      <td>[Use Charm to set up your combos, it will make...</td>\n",
              "      <td>[Ahri's survivability is dramatically reduced ...</td>\n",
              "      <td>[Mage, Assassin]</td>\n",
              "      <td>Mana</td>\n",
              "      <td>{'attack': 3, 'defense': 4, 'magic': 8, 'diffi...</td>\n",
              "      <td>{'hp': 526, 'hpperlevel': 92, 'mp': 418, 'mppe...</td>\n",
              "      <td>[{'id': 'AhriOrbofDeception', 'name': 'Orb of ...</td>\n",
              "      <td>{'name': 'Essence Theft', 'description': 'When...</td>\n",
              "      <td>[{'champion': 'Ahri', 'title': 'AhriARAM', 'ma...</td>\n",
              "      <td>Ahri sends out and pulls back her orb, dealing...</td>\n",
              "      <td>Ahri gains a brief burst of movement speed and...</td>\n",
              "      <td>Ahri blows a kiss that damages and charms an e...</td>\n",
              "      <td>Ahri dashes forward and fires essence bolts, d...</td>\n",
              "      <td>When Ahri strikes 9 enemies with her abilities...</td>\n",
              "    </tr>\n",
              "    <tr>\n",
              "      <th>Akali</th>\n",
              "      <td>Akali</td>\n",
              "      <td>84</td>\n",
              "      <td>Akali</td>\n",
              "      <td>the Rogue Assassin</td>\n",
              "      <td>{'full': 'Akali.png', 'sprite': 'champion0.png...</td>\n",
              "      <td>[{'id': '84000', 'num': 0, 'name': 'default', ...</td>\n",
              "      <td>Abandoning the Kinkou Order and her title of t...</td>\n",
              "      <td>Abandoning the Kinkou Order and her title of t...</td>\n",
              "      <td>[Akali excels at killing fragile champions. Le...</td>\n",
              "      <td>[Akali can still be hit by area effect spells ...</td>\n",
              "      <td>[Assassin]</td>\n",
              "      <td>Energy</td>\n",
              "      <td>{'attack': 5, 'defense': 3, 'magic': 8, 'diffi...</td>\n",
              "      <td>{'hp': 575, 'hpperlevel': 95, 'mp': 200, 'mppe...</td>\n",
              "      <td>[{'id': 'AkaliQ', 'name': 'Five Point Strike',...</td>\n",
              "      <td>{'name': 'Assassin's Mark', 'description': 'De...</td>\n",
              "      <td>[{'champion': 'Akali', 'title': 'AkaliARAM', '...</td>\n",
              "      <td>Akali throws out five kunai, dealing damage ba...</td>\n",
              "      <td>Akali drops a cover of smoke and briefly gains...</td>\n",
              "      <td>Flip backward and fire a shuriken forward, dea...</td>\n",
              "      <td>Akali leaps in a direction, damaging enemies s...</td>\n",
              "      <td>Dealing spell damage to a champion creates a r...</td>\n",
              "    </tr>\n",
              "    <tr>\n",
              "      <th>Alistar</th>\n",
              "      <td>Alistar</td>\n",
              "      <td>12</td>\n",
              "      <td>Alistar</td>\n",
              "      <td>the Minotaur</td>\n",
              "      <td>{'full': 'Alistar.png', 'sprite': 'champion0.p...</td>\n",
              "      <td>[{'id': '12000', 'num': 0, 'name': 'default', ...</td>\n",
              "      <td>Always a mighty warrior with a fearsome reputa...</td>\n",
              "      <td>Always a mighty warrior with a fearsome reputa...</td>\n",
              "      <td>[Using Pulverize can allow you to establish be...</td>\n",
              "      <td>[Alistar is very disruptive but very tough - t...</td>\n",
              "      <td>[Tank, Support]</td>\n",
              "      <td>Mana</td>\n",
              "      <td>{'attack': 6, 'defense': 9, 'magic': 5, 'diffi...</td>\n",
              "      <td>{'hp': 600, 'hpperlevel': 106, 'mp': 350, 'mpp...</td>\n",
              "      <td>[{'id': 'Pulverize', 'name': 'Pulverize', 'des...</td>\n",
              "      <td>{'name': 'Triumphant Roar', 'description': 'Al...</td>\n",
              "      <td>[{'champion': 'Alistar', 'title': 'AlistarARAM...</td>\n",
              "      <td>Alistar smashes the ground, dealing damage to ...</td>\n",
              "      <td>Alistar rams a target with his head, dealing d...</td>\n",
              "      <td>Alistar tramples nearby enemy units, ignoring ...</td>\n",
              "      <td>Alistar lets out a wild roar, removing all cro...</td>\n",
              "      <td>Alistar charges his roar by stunning or displa...</td>\n",
              "    </tr>\n",
              "    <tr>\n",
              "      <th>Amumu</th>\n",
              "      <td>Amumu</td>\n",
              "      <td>32</td>\n",
              "      <td>Amumu</td>\n",
              "      <td>the Sad Mummy</td>\n",
              "      <td>{'full': 'Amumu.png', 'sprite': 'champion0.png...</td>\n",
              "      <td>[{'id': '32000', 'num': 0, 'name': 'default', ...</td>\n",
              "      <td>Legend claims that Amumu is a lonely and melan...</td>\n",
              "      <td>Legend claims that Amumu is a lonely and melan...</td>\n",
              "      <td>[Amumu is highly dependent on teammates, so tr...</td>\n",
              "      <td>[Avoid bunching up with other allies when Amum...</td>\n",
              "      <td>[Tank, Mage]</td>\n",
              "      <td>Mana</td>\n",
              "      <td>{'attack': 2, 'defense': 6, 'magic': 8, 'diffi...</td>\n",
              "      <td>{'hp': 613.12, 'hpperlevel': 84, 'mp': 287.2, ...</td>\n",
              "      <td>[{'id': 'BandageToss', 'name': 'Bandage Toss',...</td>\n",
              "      <td>{'name': 'Cursed Touch', 'description': 'Amumu...</td>\n",
              "      <td>[{'champion': 'Amumu', 'title': 'AmumuARAM', '...</td>\n",
              "      <td>Amumu tosses a sticky bandage at a target, stu...</td>\n",
              "      <td>Overcome by anguish, nearby enemies lose a per...</td>\n",
              "      <td>Permanently reduces the physical damage Amumu ...</td>\n",
              "      <td>Amumu entangles surrounding enemy units in ban...</td>\n",
              "      <td>Amumu's basic attacks &lt;font color='#9b0f5f'&gt;Cu...</td>\n",
              "    </tr>\n",
              "  </tbody>\n",
              "</table>\n",
              "</div>"
            ],
            "text/plain": [
              "              id  ...                                            Passive\n",
              "Aatrox    Aatrox  ...  Periodically, Aatrox's next basic attack deals...\n",
              "Ahri        Ahri  ...  When Ahri strikes 9 enemies with her abilities...\n",
              "Akali      Akali  ...  Dealing spell damage to a champion creates a r...\n",
              "Alistar  Alistar  ...  Alistar charges his roar by stunning or displa...\n",
              "Amumu      Amumu  ...  Amumu's basic attacks <font color='#9b0f5f'>Cu...\n",
              "\n",
              "[5 rows x 22 columns]"
            ]
          },
          "metadata": {
            "tags": []
          },
          "execution_count": 123
        }
      ]
    },
    {
      "cell_type": "markdown",
      "metadata": {
        "id": "lEL7TxRZATaZ"
      },
      "source": [
        "Tenemos los dos DataFrames listos aunque *champInfo* contiene demasiados campos que para nuestro reconmendador son totalmente innecesarios, asi que los eliminamos:"
      ]
    },
    {
      "cell_type": "code",
      "metadata": {
        "id": "evZgJo4sAidC",
        "outputId": "e0a00eb3-dbc3-469c-8883-fcd200d3944e",
        "colab": {
          "base_uri": "https://localhost:8080/",
          "height": 415
        }
      },
      "source": [
        "del champInfo['skins']\n",
        "del champInfo['key']\n",
        "del champInfo['id']\n",
        "del champInfo['blurb']\n",
        "del champInfo['title']\n",
        "del champInfo['allytips']\n",
        "del champInfo['enemytips']\n",
        "del champInfo['info']\n",
        "del champInfo['recommended']\n",
        "del champInfo['spells']\n",
        "del champInfo['passive']\n",
        "del champInfo['stats']\n",
        "del champInfo['image']\n",
        "\n",
        "champInfo.head()"
      ],
      "execution_count": 124,
      "outputs": [
        {
          "output_type": "execute_result",
          "data": {
            "text/html": [
              "<div>\n",
              "<style scoped>\n",
              "    .dataframe tbody tr th:only-of-type {\n",
              "        vertical-align: middle;\n",
              "    }\n",
              "\n",
              "    .dataframe tbody tr th {\n",
              "        vertical-align: top;\n",
              "    }\n",
              "\n",
              "    .dataframe thead th {\n",
              "        text-align: right;\n",
              "    }\n",
              "</style>\n",
              "<table border=\"1\" class=\"dataframe\">\n",
              "  <thead>\n",
              "    <tr style=\"text-align: right;\">\n",
              "      <th></th>\n",
              "      <th>name</th>\n",
              "      <th>lore</th>\n",
              "      <th>tags</th>\n",
              "      <th>partype</th>\n",
              "      <th>Q</th>\n",
              "      <th>W</th>\n",
              "      <th>E</th>\n",
              "      <th>R</th>\n",
              "      <th>Passive</th>\n",
              "    </tr>\n",
              "  </thead>\n",
              "  <tbody>\n",
              "    <tr>\n",
              "      <th>Aatrox</th>\n",
              "      <td>Aatrox</td>\n",
              "      <td>Once honored defenders of Shurima against the ...</td>\n",
              "      <td>[Fighter, Tank]</td>\n",
              "      <td>Blood Well</td>\n",
              "      <td>Aatrox slams his greatsword down, dealing phys...</td>\n",
              "      <td>Aatrox smashes the ground, dealing damage to t...</td>\n",
              "      <td>Passively, Aatrox heals when damaging enemy ch...</td>\n",
              "      <td>Aatrox unleashes his demonic form, fearing nea...</td>\n",
              "      <td>Periodically, Aatrox's next basic attack deals...</td>\n",
              "    </tr>\n",
              "    <tr>\n",
              "      <th>Ahri</th>\n",
              "      <td>Ahri</td>\n",
              "      <td>Innately connected to the latent power of Rune...</td>\n",
              "      <td>[Mage, Assassin]</td>\n",
              "      <td>Mana</td>\n",
              "      <td>Ahri sends out and pulls back her orb, dealing...</td>\n",
              "      <td>Ahri gains a brief burst of movement speed and...</td>\n",
              "      <td>Ahri blows a kiss that damages and charms an e...</td>\n",
              "      <td>Ahri dashes forward and fires essence bolts, d...</td>\n",
              "      <td>When Ahri strikes 9 enemies with her abilities...</td>\n",
              "    </tr>\n",
              "    <tr>\n",
              "      <th>Akali</th>\n",
              "      <td>Akali</td>\n",
              "      <td>Abandoning the Kinkou Order and her title of t...</td>\n",
              "      <td>[Assassin]</td>\n",
              "      <td>Energy</td>\n",
              "      <td>Akali throws out five kunai, dealing damage ba...</td>\n",
              "      <td>Akali drops a cover of smoke and briefly gains...</td>\n",
              "      <td>Flip backward and fire a shuriken forward, dea...</td>\n",
              "      <td>Akali leaps in a direction, damaging enemies s...</td>\n",
              "      <td>Dealing spell damage to a champion creates a r...</td>\n",
              "    </tr>\n",
              "    <tr>\n",
              "      <th>Alistar</th>\n",
              "      <td>Alistar</td>\n",
              "      <td>Always a mighty warrior with a fearsome reputa...</td>\n",
              "      <td>[Tank, Support]</td>\n",
              "      <td>Mana</td>\n",
              "      <td>Alistar smashes the ground, dealing damage to ...</td>\n",
              "      <td>Alistar rams a target with his head, dealing d...</td>\n",
              "      <td>Alistar tramples nearby enemy units, ignoring ...</td>\n",
              "      <td>Alistar lets out a wild roar, removing all cro...</td>\n",
              "      <td>Alistar charges his roar by stunning or displa...</td>\n",
              "    </tr>\n",
              "    <tr>\n",
              "      <th>Amumu</th>\n",
              "      <td>Amumu</td>\n",
              "      <td>Legend claims that Amumu is a lonely and melan...</td>\n",
              "      <td>[Tank, Mage]</td>\n",
              "      <td>Mana</td>\n",
              "      <td>Amumu tosses a sticky bandage at a target, stu...</td>\n",
              "      <td>Overcome by anguish, nearby enemies lose a per...</td>\n",
              "      <td>Permanently reduces the physical damage Amumu ...</td>\n",
              "      <td>Amumu entangles surrounding enemy units in ban...</td>\n",
              "      <td>Amumu's basic attacks &lt;font color='#9b0f5f'&gt;Cu...</td>\n",
              "    </tr>\n",
              "  </tbody>\n",
              "</table>\n",
              "</div>"
            ],
            "text/plain": [
              "            name  ...                                            Passive\n",
              "Aatrox    Aatrox  ...  Periodically, Aatrox's next basic attack deals...\n",
              "Ahri        Ahri  ...  When Ahri strikes 9 enemies with her abilities...\n",
              "Akali      Akali  ...  Dealing spell damage to a champion creates a r...\n",
              "Alistar  Alistar  ...  Alistar charges his roar by stunning or displa...\n",
              "Amumu      Amumu  ...  Amumu's basic attacks <font color='#9b0f5f'>Cu...\n",
              "\n",
              "[5 rows x 9 columns]"
            ]
          },
          "metadata": {
            "tags": []
          },
          "execution_count": 124
        }
      ]
    },
    {
      "cell_type": "markdown",
      "metadata": {
        "id": "Wc-oEly3GwSX"
      },
      "source": [
        "**NOTA**: Para seleccionar un dato del cualquier DataFrame usaremos DataFrame.at[fila,columna]."
      ]
    },
    {
      "cell_type": "code",
      "metadata": {
        "id": "SLOfvqakejS4",
        "outputId": "7adf34ab-e04c-4bac-8965-cc2652b69f97",
        "colab": {
          "base_uri": "https://localhost:8080/"
        }
      },
      "source": [
        "print(frontInfo.at[ 'Yasuo' , 'Q' ])"
      ],
      "execution_count": 141,
      "outputs": [
        {
          "output_type": "stream",
          "text": [
            "Steel Tempest\n"
          ],
          "name": "stdout"
        }
      ]
    }
  ]
}